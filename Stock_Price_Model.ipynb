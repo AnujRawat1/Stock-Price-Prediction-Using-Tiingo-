{
 "cells": [
  {
   "cell_type": "markdown",
   "metadata": {},
   "source": [
    "### Stock Market Prediction And Forecasting Using Stacked LSTM"
   ]
  },
  {
   "cell_type": "code",
   "execution_count": 1,
   "metadata": {},
   "outputs": [],
   "source": [
    "### Data Collection\n",
    "import pandas_datareader as pdr\n",
    "import os\n",
    "import pandas as pd\n",
    "import datetime as dt\n",
    "from datetime import date\n",
    "import matplotlib.pyplot as plt\n",
    "import yfinance as yf\n",
    "import numpy as np\n",
    "import tensorflow as tf\n",
    "\n",
    "key='2e48839e3973061bffab134187746033037381fb'"
   ]
  },
  {
   "cell_type": "code",
   "execution_count": 2,
   "metadata": {},
   "outputs": [],
   "source": [
    "from tiingo import TiingoClient\n",
    "\n",
    "config = {\n",
    "    'api_key' : key,\n",
    "    'session' : True\n",
    "}\n",
    "\n",
    "client = TiingoClient(config)"
   ]
  },
  {
   "cell_type": "code",
   "execution_count": 3,
   "metadata": {},
   "outputs": [],
   "source": [
    "def generate_data(stock_name, start_date, client):\n",
    "\n",
    "    data = client.get_ticker_price(stock_name, fmt='json', startDate=start_date, endDate=date.today().strftime(\"%Y-%m-%d\"), frequency='daily')\n",
    "\n",
    "    df = pd.DataFrame(data)\n",
    "    df.to_csv(f'{stock_name}.csv')\n"
   ]
  },
  {
   "cell_type": "code",
   "execution_count": null,
   "metadata": {},
   "outputs": [],
   "source": [
    "generate_data(\"GOOG\", \"2015-01-01\", client)"
   ]
  },
  {
   "cell_type": "code",
   "execution_count": 4,
   "metadata": {},
   "outputs": [],
   "source": [
    "df = pd.read_csv('GOOG.csv')"
   ]
  },
  {
   "cell_type": "code",
   "execution_count": 5,
   "metadata": {},
   "outputs": [
    {
     "data": {
      "text/html": [
       "<div>\n",
       "<style scoped>\n",
       "    .dataframe tbody tr th:only-of-type {\n",
       "        vertical-align: middle;\n",
       "    }\n",
       "\n",
       "    .dataframe tbody tr th {\n",
       "        vertical-align: top;\n",
       "    }\n",
       "\n",
       "    .dataframe thead th {\n",
       "        text-align: right;\n",
       "    }\n",
       "</style>\n",
       "<table border=\"1\" class=\"dataframe\">\n",
       "  <thead>\n",
       "    <tr style=\"text-align: right;\">\n",
       "      <th></th>\n",
       "      <th>Unnamed: 0</th>\n",
       "      <th>date</th>\n",
       "      <th>close</th>\n",
       "      <th>high</th>\n",
       "      <th>low</th>\n",
       "      <th>open</th>\n",
       "      <th>volume</th>\n",
       "      <th>adjClose</th>\n",
       "      <th>adjHigh</th>\n",
       "      <th>adjLow</th>\n",
       "      <th>adjOpen</th>\n",
       "      <th>adjVolume</th>\n",
       "      <th>divCash</th>\n",
       "      <th>splitFactor</th>\n",
       "    </tr>\n",
       "  </thead>\n",
       "  <tbody>\n",
       "    <tr>\n",
       "      <th>0</th>\n",
       "      <td>0</td>\n",
       "      <td>2015-01-02T00:00:00.000Z</td>\n",
       "      <td>524.81</td>\n",
       "      <td>531.270</td>\n",
       "      <td>524.10</td>\n",
       "      <td>529.01</td>\n",
       "      <td>1446662</td>\n",
       "      <td>26.115161</td>\n",
       "      <td>26.436618</td>\n",
       "      <td>26.079831</td>\n",
       "      <td>26.324158</td>\n",
       "      <td>28933240</td>\n",
       "      <td>0.0</td>\n",
       "      <td>1.0</td>\n",
       "    </tr>\n",
       "    <tr>\n",
       "      <th>1</th>\n",
       "      <td>1</td>\n",
       "      <td>2015-01-05T00:00:00.000Z</td>\n",
       "      <td>513.87</td>\n",
       "      <td>524.330</td>\n",
       "      <td>513.06</td>\n",
       "      <td>523.26</td>\n",
       "      <td>2054238</td>\n",
       "      <td>25.570774</td>\n",
       "      <td>26.091276</td>\n",
       "      <td>25.530467</td>\n",
       "      <td>26.038031</td>\n",
       "      <td>41084760</td>\n",
       "      <td>0.0</td>\n",
       "      <td>1.0</td>\n",
       "    </tr>\n",
       "    <tr>\n",
       "      <th>2</th>\n",
       "      <td>2</td>\n",
       "      <td>2015-01-06T00:00:00.000Z</td>\n",
       "      <td>501.96</td>\n",
       "      <td>516.175</td>\n",
       "      <td>501.05</td>\n",
       "      <td>515.00</td>\n",
       "      <td>2891950</td>\n",
       "      <td>24.978118</td>\n",
       "      <td>25.685473</td>\n",
       "      <td>24.932835</td>\n",
       "      <td>25.627004</td>\n",
       "      <td>57839000</td>\n",
       "      <td>0.0</td>\n",
       "      <td>1.0</td>\n",
       "    </tr>\n",
       "    <tr>\n",
       "      <th>3</th>\n",
       "      <td>3</td>\n",
       "      <td>2015-01-07T00:00:00.000Z</td>\n",
       "      <td>501.10</td>\n",
       "      <td>507.244</td>\n",
       "      <td>499.65</td>\n",
       "      <td>507.00</td>\n",
       "      <td>2059366</td>\n",
       "      <td>24.935324</td>\n",
       "      <td>25.241056</td>\n",
       "      <td>24.863170</td>\n",
       "      <td>25.228914</td>\n",
       "      <td>41187320</td>\n",
       "      <td>0.0</td>\n",
       "      <td>1.0</td>\n",
       "    </tr>\n",
       "    <tr>\n",
       "      <th>4</th>\n",
       "      <td>4</td>\n",
       "      <td>2015-01-08T00:00:00.000Z</td>\n",
       "      <td>502.68</td>\n",
       "      <td>503.480</td>\n",
       "      <td>491.00</td>\n",
       "      <td>497.99</td>\n",
       "      <td>3344395</td>\n",
       "      <td>25.013946</td>\n",
       "      <td>25.053755</td>\n",
       "      <td>24.432736</td>\n",
       "      <td>24.780566</td>\n",
       "      <td>66887900</td>\n",
       "      <td>0.0</td>\n",
       "      <td>1.0</td>\n",
       "    </tr>\n",
       "  </tbody>\n",
       "</table>\n",
       "</div>"
      ],
      "text/plain": [
       "   Unnamed: 0                      date   close     high     low    open  \\\n",
       "0           0  2015-01-02T00:00:00.000Z  524.81  531.270  524.10  529.01   \n",
       "1           1  2015-01-05T00:00:00.000Z  513.87  524.330  513.06  523.26   \n",
       "2           2  2015-01-06T00:00:00.000Z  501.96  516.175  501.05  515.00   \n",
       "3           3  2015-01-07T00:00:00.000Z  501.10  507.244  499.65  507.00   \n",
       "4           4  2015-01-08T00:00:00.000Z  502.68  503.480  491.00  497.99   \n",
       "\n",
       "    volume   adjClose    adjHigh     adjLow    adjOpen  adjVolume  divCash  \\\n",
       "0  1446662  26.115161  26.436618  26.079831  26.324158   28933240      0.0   \n",
       "1  2054238  25.570774  26.091276  25.530467  26.038031   41084760      0.0   \n",
       "2  2891950  24.978118  25.685473  24.932835  25.627004   57839000      0.0   \n",
       "3  2059366  24.935324  25.241056  24.863170  25.228914   41187320      0.0   \n",
       "4  3344395  25.013946  25.053755  24.432736  24.780566   66887900      0.0   \n",
       "\n",
       "   splitFactor  \n",
       "0          1.0  \n",
       "1          1.0  \n",
       "2          1.0  \n",
       "3          1.0  \n",
       "4          1.0  "
      ]
     },
     "execution_count": 5,
     "metadata": {},
     "output_type": "execute_result"
    }
   ],
   "source": [
    "df.head()"
   ]
  },
  {
   "cell_type": "code",
   "execution_count": 6,
   "metadata": {},
   "outputs": [
    {
     "data": {
      "text/html": [
       "<div>\n",
       "<style scoped>\n",
       "    .dataframe tbody tr th:only-of-type {\n",
       "        vertical-align: middle;\n",
       "    }\n",
       "\n",
       "    .dataframe tbody tr th {\n",
       "        vertical-align: top;\n",
       "    }\n",
       "\n",
       "    .dataframe thead th {\n",
       "        text-align: right;\n",
       "    }\n",
       "</style>\n",
       "<table border=\"1\" class=\"dataframe\">\n",
       "  <thead>\n",
       "    <tr style=\"text-align: right;\">\n",
       "      <th></th>\n",
       "      <th>Unnamed: 0</th>\n",
       "      <th>date</th>\n",
       "      <th>close</th>\n",
       "      <th>high</th>\n",
       "      <th>low</th>\n",
       "      <th>open</th>\n",
       "      <th>volume</th>\n",
       "      <th>adjClose</th>\n",
       "      <th>adjHigh</th>\n",
       "      <th>adjLow</th>\n",
       "      <th>adjOpen</th>\n",
       "      <th>adjVolume</th>\n",
       "      <th>divCash</th>\n",
       "      <th>splitFactor</th>\n",
       "    </tr>\n",
       "  </thead>\n",
       "  <tbody>\n",
       "    <tr>\n",
       "      <th>2558</th>\n",
       "      <td>2558</td>\n",
       "      <td>2025-03-06T00:00:00.000Z</td>\n",
       "      <td>174.21</td>\n",
       "      <td>176.730</td>\n",
       "      <td>172.508</td>\n",
       "      <td>172.550</td>\n",
       "      <td>19082404</td>\n",
       "      <td>174.002619</td>\n",
       "      <td>176.519620</td>\n",
       "      <td>172.302646</td>\n",
       "      <td>172.344596</td>\n",
       "      <td>19082404</td>\n",
       "      <td>0.0</td>\n",
       "      <td>1.0</td>\n",
       "    </tr>\n",
       "    <tr>\n",
       "      <th>2559</th>\n",
       "      <td>2559</td>\n",
       "      <td>2025-03-07T00:00:00.000Z</td>\n",
       "      <td>175.75</td>\n",
       "      <td>176.900</td>\n",
       "      <td>172.250</td>\n",
       "      <td>173.242</td>\n",
       "      <td>16395287</td>\n",
       "      <td>175.540786</td>\n",
       "      <td>176.689417</td>\n",
       "      <td>172.044953</td>\n",
       "      <td>173.035772</td>\n",
       "      <td>16395287</td>\n",
       "      <td>0.0</td>\n",
       "      <td>1.0</td>\n",
       "    </tr>\n",
       "    <tr>\n",
       "      <th>2560</th>\n",
       "      <td>2560</td>\n",
       "      <td>2025-03-10T00:00:00.000Z</td>\n",
       "      <td>167.81</td>\n",
       "      <td>170.450</td>\n",
       "      <td>165.565</td>\n",
       "      <td>170.160</td>\n",
       "      <td>28335500</td>\n",
       "      <td>167.810000</td>\n",
       "      <td>170.450000</td>\n",
       "      <td>165.565000</td>\n",
       "      <td>170.160000</td>\n",
       "      <td>28335500</td>\n",
       "      <td>0.2</td>\n",
       "      <td>1.0</td>\n",
       "    </tr>\n",
       "    <tr>\n",
       "      <th>2561</th>\n",
       "      <td>2561</td>\n",
       "      <td>2025-03-11T00:00:00.000Z</td>\n",
       "      <td>165.98</td>\n",
       "      <td>168.655</td>\n",
       "      <td>163.240</td>\n",
       "      <td>166.680</td>\n",
       "      <td>23705899</td>\n",
       "      <td>165.980000</td>\n",
       "      <td>168.655000</td>\n",
       "      <td>163.240000</td>\n",
       "      <td>166.680000</td>\n",
       "      <td>23705899</td>\n",
       "      <td>0.0</td>\n",
       "      <td>1.0</td>\n",
       "    </tr>\n",
       "    <tr>\n",
       "      <th>2562</th>\n",
       "      <td>2562</td>\n",
       "      <td>2025-03-12T00:00:00.000Z</td>\n",
       "      <td>169.00</td>\n",
       "      <td>169.530</td>\n",
       "      <td>165.480</td>\n",
       "      <td>168.470</td>\n",
       "      <td>19880062</td>\n",
       "      <td>169.000000</td>\n",
       "      <td>169.530000</td>\n",
       "      <td>165.480000</td>\n",
       "      <td>168.470000</td>\n",
       "      <td>19880062</td>\n",
       "      <td>0.0</td>\n",
       "      <td>1.0</td>\n",
       "    </tr>\n",
       "  </tbody>\n",
       "</table>\n",
       "</div>"
      ],
      "text/plain": [
       "      Unnamed: 0                      date   close     high      low     open  \\\n",
       "2558        2558  2025-03-06T00:00:00.000Z  174.21  176.730  172.508  172.550   \n",
       "2559        2559  2025-03-07T00:00:00.000Z  175.75  176.900  172.250  173.242   \n",
       "2560        2560  2025-03-10T00:00:00.000Z  167.81  170.450  165.565  170.160   \n",
       "2561        2561  2025-03-11T00:00:00.000Z  165.98  168.655  163.240  166.680   \n",
       "2562        2562  2025-03-12T00:00:00.000Z  169.00  169.530  165.480  168.470   \n",
       "\n",
       "        volume    adjClose     adjHigh      adjLow     adjOpen  adjVolume  \\\n",
       "2558  19082404  174.002619  176.519620  172.302646  172.344596   19082404   \n",
       "2559  16395287  175.540786  176.689417  172.044953  173.035772   16395287   \n",
       "2560  28335500  167.810000  170.450000  165.565000  170.160000   28335500   \n",
       "2561  23705899  165.980000  168.655000  163.240000  166.680000   23705899   \n",
       "2562  19880062  169.000000  169.530000  165.480000  168.470000   19880062   \n",
       "\n",
       "      divCash  splitFactor  \n",
       "2558      0.0          1.0  \n",
       "2559      0.0          1.0  \n",
       "2560      0.2          1.0  \n",
       "2561      0.0          1.0  \n",
       "2562      0.0          1.0  "
      ]
     },
     "execution_count": 6,
     "metadata": {},
     "output_type": "execute_result"
    }
   ],
   "source": [
    "df.tail()"
   ]
  },
  {
   "cell_type": "code",
   "execution_count": 7,
   "metadata": {},
   "outputs": [],
   "source": [
    "df1 = df.reset_index()['close']"
   ]
  },
  {
   "cell_type": "code",
   "execution_count": 8,
   "metadata": {},
   "outputs": [
    {
     "data": {
      "text/plain": [
       "(2563,)"
      ]
     },
     "execution_count": 8,
     "metadata": {},
     "output_type": "execute_result"
    }
   ],
   "source": [
    "df1.shape"
   ]
  },
  {
   "cell_type": "code",
   "execution_count": 9,
   "metadata": {},
   "outputs": [
    {
     "data": {
      "text/plain": [
       "0       524.81\n",
       "1       513.87\n",
       "2       501.96\n",
       "3       501.10\n",
       "4       502.68\n",
       "         ...  \n",
       "2558    174.21\n",
       "2559    175.75\n",
       "2560    167.81\n",
       "2561    165.98\n",
       "2562    169.00\n",
       "Name: close, Length: 2563, dtype: float64"
      ]
     },
     "execution_count": 9,
     "metadata": {},
     "output_type": "execute_result"
    }
   ],
   "source": [
    "df1"
   ]
  },
  {
   "cell_type": "code",
   "execution_count": 10,
   "metadata": {},
   "outputs": [
    {
     "data": {
      "text/plain": [
       "[<matplotlib.lines.Line2D at 0x1ee1fc13b60>]"
      ]
     },
     "execution_count": 10,
     "metadata": {},
     "output_type": "execute_result"
    },
    {
     "data": {
      "image/png": "[encoded data removed]",
      "text/plain": [
       "<Figure size 640x480 with 1 Axes>"
      ]
     },
     "metadata": {},
     "output_type": "display_data"
    }
   ],
   "source": [
    "import matplotlib.pyplot as plt\n",
    "plt.xlabel(xlabel='Day Value')\n",
    "plt.ylabel(ylabel='Stock Price')\n",
    "plt.plot(df1, c='#4169E1')"
   ]
  },
  {
   "cell_type": "code",
   "execution_count": 11,
   "metadata": {},
   "outputs": [],
   "source": [
    "### LSTM are sensitive to the scale of the data. so we apply MinMax scaler "
   ]
  },
  {
   "cell_type": "code",
   "execution_count": 12,
   "metadata": {},
   "outputs": [],
   "source": [
    "from sklearn.preprocessing import MinMaxScaler\n",
    "scaler=MinMaxScaler(feature_range=(0,1))\n",
    "df1=scaler.fit_transform(np.array(df1).reshape(-1,1))"
   ]
  },
  {
   "cell_type": "code",
   "execution_count": 13,
   "metadata": {},
   "outputs": [
    {
     "name": "stdout",
     "output_type": "stream",
     "text": [
      "[[0.1505857 ]\n",
      " [0.14685279]\n",
      " [0.1427889 ]\n",
      " ...\n",
      " [0.02877138]\n",
      " [0.02814696]\n",
      " [0.02917743]]\n"
     ]
    }
   ],
   "source": [
    "print(df1)"
   ]
  },
  {
   "cell_type": "code",
   "execution_count": 14,
   "metadata": {},
   "outputs": [],
   "source": [
    "##splitting dataset into train and test split\n",
    "training_size=int(len(df1)*0.65)\n",
    "test_size=len(df1)-training_size\n",
    "train_data,test_data=df1[0:training_size,:],df1[training_size:len(df1),:1]"
   ]
  },
  {
   "cell_type": "code",
   "execution_count": 15,
   "metadata": {},
   "outputs": [
    {
     "data": {
      "text/plain": [
       "(1665, 898)"
      ]
     },
     "execution_count": 15,
     "metadata": {},
     "output_type": "execute_result"
    }
   ],
   "source": [
    "training_size,test_size"
   ]
  },
  {
   "cell_type": "code",
   "execution_count": 16,
   "metadata": {},
   "outputs": [
    {
     "data": {
      "text/plain": [
       "array([[0.1505857 ],\n",
       "       [0.14685279],\n",
       "       [0.1427889 ],\n",
       "       ...,\n",
       "       [0.91392812],\n",
       "       [0.91115062],\n",
       "       [0.91592765]])"
      ]
     },
     "execution_count": 16,
     "metadata": {},
     "output_type": "execute_result"
    }
   ],
   "source": [
    "train_data"
   ]
  },
  {
   "cell_type": "code",
   "execution_count": 17,
   "metadata": {},
   "outputs": [
    {
     "data": {
      "text/plain": [
       "(1665, 898)"
      ]
     },
     "execution_count": 17,
     "metadata": {},
     "output_type": "execute_result"
    }
   ],
   "source": [
    "training_size, test_size"
   ]
  },
  {
   "cell_type": "code",
   "execution_count": 18,
   "metadata": {},
   "outputs": [],
   "source": [
    "import numpy\n",
    "# convert an array of values into a dataset matrix\n",
    "# Time Step -> How many days before our data is dependent\n",
    "def create_dataset(dataset, time_step=1):\n",
    "\tdataX, dataY = [], []\n",
    "\tfor i in range(len(dataset)-time_step-1):\n",
    "\t\ta = dataset[i:(i+time_step), 0]   ###i=0, 0,1,2,3-----99   100 \n",
    "\t\tdataX.append(a)\n",
    "\t\tdataY.append(dataset[i + time_step, 0])\n",
    "\treturn numpy.array(dataX), numpy.array(dataY)"
   ]
  },
  {
   "cell_type": "code",
   "execution_count": 19,
   "metadata": {},
   "outputs": [],
   "source": [
    "# reshape into X=t,t+1,t+2,t+3 and Y=t+4\n",
    "time_step = 100\n",
    "X_train, y_train = create_dataset(train_data, time_step)\n",
    "X_test, ytest = create_dataset(test_data, time_step)"
   ]
  },
  {
   "cell_type": "code",
   "execution_count": 20,
   "metadata": {},
   "outputs": [
    {
     "name": "stdout",
     "output_type": "stream",
     "text": [
      "(1564, 100)\n",
      "(1564,)\n"
     ]
    },
    {
     "data": {
      "text/plain": [
       "(None, None)"
      ]
     },
     "execution_count": 20,
     "metadata": {},
     "output_type": "execute_result"
    }
   ],
   "source": [
    "print(X_train.shape), print(y_train.shape)"
   ]
  },
  {
   "cell_type": "code",
   "execution_count": 21,
   "metadata": {},
   "outputs": [
    {
     "name": "stdout",
     "output_type": "stream",
     "text": [
      "(797, 100)\n",
      "(797,)\n"
     ]
    },
    {
     "data": {
      "text/plain": [
       "(None, None)"
      ]
     },
     "execution_count": 21,
     "metadata": {},
     "output_type": "execute_result"
    }
   ],
   "source": [
    "print(X_test.shape), print(ytest.shape)"
   ]
  },
  {
   "cell_type": "code",
   "execution_count": 22,
   "metadata": {},
   "outputs": [],
   "source": [
    "# reshape input to be [samples, time steps, features] which is required for LSTM\n",
    "X_train =X_train.reshape(X_train.shape[0],X_train.shape[1] , 1)\n",
    "X_test = X_test.reshape(X_test.shape[0],X_test.shape[1] , 1)"
   ]
  },
  {
   "cell_type": "code",
   "execution_count": 23,
   "metadata": {},
   "outputs": [
    {
     "data": {
      "text/plain": [
       "(1564, 100, 1)"
      ]
     },
     "execution_count": 23,
     "metadata": {},
     "output_type": "execute_result"
    }
   ],
   "source": [
    "X_train.shape"
   ]
  },
  {
   "cell_type": "code",
   "execution_count": 24,
   "metadata": {},
   "outputs": [],
   "source": [
    "### Create the Stacked LSTM model\n",
    "from tensorflow.keras.models import Sequential\n",
    "from tensorflow.keras.layers import Dense\n",
    "from tensorflow.keras.layers import LSTM"
   ]
  },
  {
   "cell_type": "code",
   "execution_count": null,
   "metadata": {},
   "outputs": [
    {
     "name": "stderr",
     "output_type": "stream",
     "text": [
      "C:\\Users\\rawat\\AppData\\Roaming\\Python\\Python312\\site-packages\\keras\\src\\layers\\rnn\\rnn.py:204: UserWarning: Do not pass an `input_shape`/`input_dim` argument to a layer. When using Sequential models, prefer using an `Input(shape)` object as the first layer in the model instead.\n",
      "  super().__init__(**kwargs)\n"
     ]
    }
   ],
   "source": [
    "# Model Creation\n",
    "model=Sequential()\n",
    "model.add(LSTM(50,return_sequences=True,input_shape=(100,1)))\n",
    "model.add(LSTM(50,return_sequences=True))\n",
    "model.add(LSTM(50))\n",
    "model.add(Dense(1))\n",
    "model.compile(loss='mean_squared_error',optimizer='adam')\n"
   ]
  },
  {
   "cell_type": "code",
   "execution_count": 27,
   "metadata": {},
   "outputs": [
    {
     "data": {
      "text/html": [
       "<pre style=\"white-space:pre;overflow-x:auto;line-height:normal;font-family:Menlo,'DejaVu Sans Mono',consolas,'Courier New',monospace\"><span style=\"font-weight: bold\">Model: \"sequential\"</span>\n",
       "</pre>\n"
      ],
      "text/plain": [
       "\u001b[1mModel: \"sequential\"\u001b[0m\n"
      ]
     },
     "metadata": {},
     "output_type": "display_data"
    },
    {
     "data": {
      "text/html": [
       "<pre style=\"white-space:pre;overflow-x:auto;line-height:normal;font-family:Menlo,'DejaVu Sans Mono',consolas,'Courier New',monospace\">┏━━━━━━━━━━━━━━━━━━━━━━━━━━━━━━━━━┳━━━━━━━━━━━━━━━━━━━━━━━━┳━━━━━━━━━━━━━━━┓\n",
       "┃<span style=\"font-weight: bold\"> Layer (type)                    </span>┃<span style=\"font-weight: bold\"> Output Shape           </span>┃<span style=\"font-weight: bold\">       Param # </span>┃\n",
       "┡━━━━━━━━━━━━━━━━━━━━━━━━━━━━━━━━━╇━━━━━━━━━━━━━━━━━━━━━━━━╇━━━━━━━━━━━━━━━┩\n",
       "│ lstm (<span style=\"color: #0087ff; text-decoration-color: #0087ff\">LSTM</span>)                     │ (<span style=\"color: #00d7ff; text-decoration-color: #00d7ff\">None</span>, <span style=\"color: #00af00; text-decoration-color: #00af00\">100</span>, <span style=\"color: #00af00; text-decoration-color: #00af00\">50</span>)        │        <span style=\"color: #00af00; text-decoration-color: #00af00\">10,400</span> │\n",
       "├─────────────────────────────────┼────────────────────────┼───────────────┤\n",
       "│ lstm_1 (<span style=\"color: #0087ff; text-decoration-color: #0087ff\">LSTM</span>)                   │ (<span style=\"color: #00d7ff; text-decoration-color: #00d7ff\">None</span>, <span style=\"color: #00af00; text-decoration-color: #00af00\">100</span>, <span style=\"color: #00af00; text-decoration-color: #00af00\">50</span>)        │        <span style=\"color: #00af00; text-decoration-color: #00af00\">20,200</span> │\n",
       "├─────────────────────────────────┼────────────────────────┼───────────────┤\n",
       "│ lstm_2 (<span style=\"color: #0087ff; text-decoration-color: #0087ff\">LSTM</span>)                   │ (<span style=\"color: #00d7ff; text-decoration-color: #00d7ff\">None</span>, <span style=\"color: #00af00; text-decoration-color: #00af00\">50</span>)             │        <span style=\"color: #00af00; text-decoration-color: #00af00\">20,200</span> │\n",
       "├─────────────────────────────────┼────────────────────────┼───────────────┤\n",
       "│ dense (<span style=\"color: #0087ff; text-decoration-color: #0087ff\">Dense</span>)                   │ (<span style=\"color: #00d7ff; text-decoration-color: #00d7ff\">None</span>, <span style=\"color: #00af00; text-decoration-color: #00af00\">1</span>)              │            <span style=\"color: #00af00; text-decoration-color: #00af00\">51</span> │\n",
       "└─────────────────────────────────┴────────────────────────┴───────────────┘\n",
       "</pre>\n"
      ],
      "text/plain": [
       "┏━━━━━━━━━━━━━━━━━━━━━━━━━━━━━━━━━┳━━━━━━━━━━━━━━━━━━━━━━━━┳━━━━━━━━━━━━━━━┓\n",
       "┃\u001b[1m \u001b[0m\u001b[1mLayer (type)                   \u001b[0m\u001b[1m \u001b[0m┃\u001b[1m \u001b[0m\u001b[1mOutput Shape          \u001b[0m\u001b[1m \u001b[0m┃\u001b[1m \u001b[0m\u001b[1m      Param #\u001b[0m\u001b[1m \u001b[0m┃\n",
       "┡━━━━━━━━━━━━━━━━━━━━━━━━━━━━━━━━━╇━━━━━━━━━━━━━━━━━━━━━━━━╇━━━━━━━━━━━━━━━┩\n",
       "│ lstm (\u001b[38;5;33mLSTM\u001b[0m)                     │ (\u001b[38;5;45mNone\u001b[0m, \u001b[38;5;34m100\u001b[0m, \u001b[38;5;34m50\u001b[0m)        │        \u001b[38;5;34m10,400\u001b[0m │\n",
       "├─────────────────────────────────┼────────────────────────┼───────────────┤\n",
       "│ lstm_1 (\u001b[38;5;33mLSTM\u001b[0m)                   │ (\u001b[38;5;45mNone\u001b[0m, \u001b[38;5;34m100\u001b[0m, \u001b[38;5;34m50\u001b[0m)        │        \u001b[38;5;34m20,200\u001b[0m │\n",
       "├─────────────────────────────────┼────────────────────────┼───────────────┤\n",
       "│ lstm_2 (\u001b[38;5;33mLSTM\u001b[0m)                   │ (\u001b[38;5;45mNone\u001b[0m, \u001b[38;5;34m50\u001b[0m)             │        \u001b[38;5;34m20,200\u001b[0m │\n",
       "├─────────────────────────────────┼────────────────────────┼───────────────┤\n",
       "│ dense (\u001b[38;5;33mDense\u001b[0m)                   │ (\u001b[38;5;45mNone\u001b[0m, \u001b[38;5;34m1\u001b[0m)              │            \u001b[38;5;34m51\u001b[0m │\n",
       "└─────────────────────────────────┴────────────────────────┴───────────────┘\n"
      ]
     },
     "metadata": {},
     "output_type": "display_data"
    },
    {
     "data": {
      "text/html": [
       "<pre style=\"white-space:pre;overflow-x:auto;line-height:normal;font-family:Menlo,'DejaVu Sans Mono',consolas,'Courier New',monospace\"><span style=\"font-weight: bold\"> Total params: </span><span style=\"color: #00af00; text-decoration-color: #00af00\">50,851</span> (198.64 KB)\n",
       "</pre>\n"
      ],
      "text/plain": [
       "\u001b[1m Total params: \u001b[0m\u001b[38;5;34m50,851\u001b[0m (198.64 KB)\n"
      ]
     },
     "metadata": {},
     "output_type": "display_data"
    },
    {
     "data": {
      "text/html": [
       "<pre style=\"white-space:pre;overflow-x:auto;line-height:normal;font-family:Menlo,'DejaVu Sans Mono',consolas,'Courier New',monospace\"><span style=\"font-weight: bold\"> Trainable params: </span><span style=\"color: #00af00; text-decoration-color: #00af00\">50,851</span> (198.64 KB)\n",
       "</pre>\n"
      ],
      "text/plain": [
       "\u001b[1m Trainable params: \u001b[0m\u001b[38;5;34m50,851\u001b[0m (198.64 KB)\n"
      ]
     },
     "metadata": {},
     "output_type": "display_data"
    },
    {
     "data": {
      "text/html": [
       "<pre style=\"white-space:pre;overflow-x:auto;line-height:normal;font-family:Menlo,'DejaVu Sans Mono',consolas,'Courier New',monospace\"><span style=\"font-weight: bold\"> Non-trainable params: </span><span style=\"color: #00af00; text-decoration-color: #00af00\">0</span> (0.00 B)\n",
       "</pre>\n"
      ],
      "text/plain": [
       "\u001b[1m Non-trainable params: \u001b[0m\u001b[38;5;34m0\u001b[0m (0.00 B)\n"
      ]
     },
     "metadata": {},
     "output_type": "display_data"
    }
   ],
   "source": [
    "model.summary()"
   ]
  },
  {
   "cell_type": "code",
   "execution_count": 53,
   "metadata": {},
   "outputs": [
    {
     "name": "stderr",
     "output_type": "stream",
     "text": [
      "C:\\Users\\rawat\\AppData\\Roaming\\Python\\Python312\\site-packages\\keras\\src\\layers\\rnn\\rnn.py:204: UserWarning: Do not pass an `input_shape`/`input_dim` argument to a layer. When using Sequential models, prefer using an `Input(shape)` object as the first layer in the model instead.\n",
      "  super().__init__(**kwargs)\n"
     ]
    }
   ],
   "source": [
    "from keras.layers import Dropout\n",
    "model = Sequential()\n",
    "model.add(LSTM(units = 50, activation = 'relu', return_sequences = True, input_shape = (100,1)))\n",
    "model.add(Dropout(0.2))\n",
    "\n",
    "model.add(LSTM(units = 60, activation='relu', return_sequences = True))\n",
    "model.add(Dropout(0.3))\n",
    "\n",
    "model.add(LSTM(units = 80, activation = 'relu', return_sequences = True))\n",
    "model.add(Dropout(0.4))\n",
    "\n",
    "model.add(LSTM(units = 120, activation = 'relu'))\n",
    "model.add(Dropout(0.5))\n",
    "\n",
    "model.add(Dense(units =1))\n",
    "\n",
    "model.compile(optimizer = 'adam', loss = 'mean_squared_error', metrics=['accuracy'])"
   ]
  },
  {
   "cell_type": "code",
   "execution_count": 54,
   "metadata": {},
   "outputs": [
    {
     "data": {
      "text/html": [
       "<pre style=\"white-space:pre;overflow-x:auto;line-height:normal;font-family:Menlo,'DejaVu Sans Mono',consolas,'Courier New',monospace\"><span style=\"font-weight: bold\">Model: \"sequential_4\"</span>\n",
       "</pre>\n"
      ],
      "text/plain": [
       "\u001b[1mModel: \"sequential_4\"\u001b[0m\n"
      ]
     },
     "metadata": {},
     "output_type": "display_data"
    },
    {
     "data": {
      "text/html": [
       "<pre style=\"white-space:pre;overflow-x:auto;line-height:normal;font-family:Menlo,'DejaVu Sans Mono',consolas,'Courier New',monospace\">┏━━━━━━━━━━━━━━━━━━━━━━━━━━━━━━━━━┳━━━━━━━━━━━━━━━━━━━━━━━━┳━━━━━━━━━━━━━━━┓\n",
       "┃<span style=\"font-weight: bold\"> Layer (type)                    </span>┃<span style=\"font-weight: bold\"> Output Shape           </span>┃<span style=\"font-weight: bold\">       Param # </span>┃\n",
       "┡━━━━━━━━━━━━━━━━━━━━━━━━━━━━━━━━━╇━━━━━━━━━━━━━━━━━━━━━━━━╇━━━━━━━━━━━━━━━┩\n",
       "│ lstm_12 (<span style=\"color: #0087ff; text-decoration-color: #0087ff\">LSTM</span>)                  │ (<span style=\"color: #00d7ff; text-decoration-color: #00d7ff\">None</span>, <span style=\"color: #00af00; text-decoration-color: #00af00\">100</span>, <span style=\"color: #00af00; text-decoration-color: #00af00\">50</span>)        │        <span style=\"color: #00af00; text-decoration-color: #00af00\">10,400</span> │\n",
       "├─────────────────────────────────┼────────────────────────┼───────────────┤\n",
       "│ dropout_8 (<span style=\"color: #0087ff; text-decoration-color: #0087ff\">Dropout</span>)             │ (<span style=\"color: #00d7ff; text-decoration-color: #00d7ff\">None</span>, <span style=\"color: #00af00; text-decoration-color: #00af00\">100</span>, <span style=\"color: #00af00; text-decoration-color: #00af00\">50</span>)        │             <span style=\"color: #00af00; text-decoration-color: #00af00\">0</span> │\n",
       "├─────────────────────────────────┼────────────────────────┼───────────────┤\n",
       "│ lstm_13 (<span style=\"color: #0087ff; text-decoration-color: #0087ff\">LSTM</span>)                  │ (<span style=\"color: #00d7ff; text-decoration-color: #00d7ff\">None</span>, <span style=\"color: #00af00; text-decoration-color: #00af00\">100</span>, <span style=\"color: #00af00; text-decoration-color: #00af00\">60</span>)        │        <span style=\"color: #00af00; text-decoration-color: #00af00\">26,640</span> │\n",
       "├─────────────────────────────────┼────────────────────────┼───────────────┤\n",
       "│ dropout_9 (<span style=\"color: #0087ff; text-decoration-color: #0087ff\">Dropout</span>)             │ (<span style=\"color: #00d7ff; text-decoration-color: #00d7ff\">None</span>, <span style=\"color: #00af00; text-decoration-color: #00af00\">100</span>, <span style=\"color: #00af00; text-decoration-color: #00af00\">60</span>)        │             <span style=\"color: #00af00; text-decoration-color: #00af00\">0</span> │\n",
       "├─────────────────────────────────┼────────────────────────┼───────────────┤\n",
       "│ lstm_14 (<span style=\"color: #0087ff; text-decoration-color: #0087ff\">LSTM</span>)                  │ (<span style=\"color: #00d7ff; text-decoration-color: #00d7ff\">None</span>, <span style=\"color: #00af00; text-decoration-color: #00af00\">100</span>, <span style=\"color: #00af00; text-decoration-color: #00af00\">80</span>)        │        <span style=\"color: #00af00; text-decoration-color: #00af00\">45,120</span> │\n",
       "├─────────────────────────────────┼────────────────────────┼───────────────┤\n",
       "│ dropout_10 (<span style=\"color: #0087ff; text-decoration-color: #0087ff\">Dropout</span>)            │ (<span style=\"color: #00d7ff; text-decoration-color: #00d7ff\">None</span>, <span style=\"color: #00af00; text-decoration-color: #00af00\">100</span>, <span style=\"color: #00af00; text-decoration-color: #00af00\">80</span>)        │             <span style=\"color: #00af00; text-decoration-color: #00af00\">0</span> │\n",
       "├─────────────────────────────────┼────────────────────────┼───────────────┤\n",
       "│ lstm_15 (<span style=\"color: #0087ff; text-decoration-color: #0087ff\">LSTM</span>)                  │ (<span style=\"color: #00d7ff; text-decoration-color: #00d7ff\">None</span>, <span style=\"color: #00af00; text-decoration-color: #00af00\">120</span>)            │        <span style=\"color: #00af00; text-decoration-color: #00af00\">96,480</span> │\n",
       "├─────────────────────────────────┼────────────────────────┼───────────────┤\n",
       "│ dropout_11 (<span style=\"color: #0087ff; text-decoration-color: #0087ff\">Dropout</span>)            │ (<span style=\"color: #00d7ff; text-decoration-color: #00d7ff\">None</span>, <span style=\"color: #00af00; text-decoration-color: #00af00\">120</span>)            │             <span style=\"color: #00af00; text-decoration-color: #00af00\">0</span> │\n",
       "├─────────────────────────────────┼────────────────────────┼───────────────┤\n",
       "│ dense_3 (<span style=\"color: #0087ff; text-decoration-color: #0087ff\">Dense</span>)                 │ (<span style=\"color: #00d7ff; text-decoration-color: #00d7ff\">None</span>, <span style=\"color: #00af00; text-decoration-color: #00af00\">1</span>)              │           <span style=\"color: #00af00; text-decoration-color: #00af00\">121</span> │\n",
       "└─────────────────────────────────┴────────────────────────┴───────────────┘\n",
       "</pre>\n"
      ],
      "text/plain": [
       "┏━━━━━━━━━━━━━━━━━━━━━━━━━━━━━━━━━┳━━━━━━━━━━━━━━━━━━━━━━━━┳━━━━━━━━━━━━━━━┓\n",
       "┃\u001b[1m \u001b[0m\u001b[1mLayer (type)                   \u001b[0m\u001b[1m \u001b[0m┃\u001b[1m \u001b[0m\u001b[1mOutput Shape          \u001b[0m\u001b[1m \u001b[0m┃\u001b[1m \u001b[0m\u001b[1m      Param #\u001b[0m\u001b[1m \u001b[0m┃\n",
       "┡━━━━━━━━━━━━━━━━━━━━━━━━━━━━━━━━━╇━━━━━━━━━━━━━━━━━━━━━━━━╇━━━━━━━━━━━━━━━┩\n",
       "│ lstm_12 (\u001b[38;5;33mLSTM\u001b[0m)                  │ (\u001b[38;5;45mNone\u001b[0m, \u001b[38;5;34m100\u001b[0m, \u001b[38;5;34m50\u001b[0m)        │        \u001b[38;5;34m10,400\u001b[0m │\n",
       "├─────────────────────────────────┼────────────────────────┼───────────────┤\n",
       "│ dropout_8 (\u001b[38;5;33mDropout\u001b[0m)             │ (\u001b[38;5;45mNone\u001b[0m, \u001b[38;5;34m100\u001b[0m, \u001b[38;5;34m50\u001b[0m)        │             \u001b[38;5;34m0\u001b[0m │\n",
       "├─────────────────────────────────┼────────────────────────┼───────────────┤\n",
       "│ lstm_13 (\u001b[38;5;33mLSTM\u001b[0m)                  │ (\u001b[38;5;45mNone\u001b[0m, \u001b[38;5;34m100\u001b[0m, \u001b[38;5;34m60\u001b[0m)        │        \u001b[38;5;34m26,640\u001b[0m │\n",
       "├─────────────────────────────────┼────────────────────────┼───────────────┤\n",
       "│ dropout_9 (\u001b[38;5;33mDropout\u001b[0m)             │ (\u001b[38;5;45mNone\u001b[0m, \u001b[38;5;34m100\u001b[0m, \u001b[38;5;34m60\u001b[0m)        │             \u001b[38;5;34m0\u001b[0m │\n",
       "├─────────────────────────────────┼────────────────────────┼───────────────┤\n",
       "│ lstm_14 (\u001b[38;5;33mLSTM\u001b[0m)                  │ (\u001b[38;5;45mNone\u001b[0m, \u001b[38;5;34m100\u001b[0m, \u001b[38;5;34m80\u001b[0m)        │        \u001b[38;5;34m45,120\u001b[0m │\n",
       "├─────────────────────────────────┼────────────────────────┼───────────────┤\n",
       "│ dropout_10 (\u001b[38;5;33mDropout\u001b[0m)            │ (\u001b[38;5;45mNone\u001b[0m, \u001b[38;5;34m100\u001b[0m, \u001b[38;5;34m80\u001b[0m)        │             \u001b[38;5;34m0\u001b[0m │\n",
       "├─────────────────────────────────┼────────────────────────┼───────────────┤\n",
       "│ lstm_15 (\u001b[38;5;33mLSTM\u001b[0m)                  │ (\u001b[38;5;45mNone\u001b[0m, \u001b[38;5;34m120\u001b[0m)            │        \u001b[38;5;34m96,480\u001b[0m │\n",
       "├─────────────────────────────────┼────────────────────────┼───────────────┤\n",
       "│ dropout_11 (\u001b[38;5;33mDropout\u001b[0m)            │ (\u001b[38;5;45mNone\u001b[0m, \u001b[38;5;34m120\u001b[0m)            │             \u001b[38;5;34m0\u001b[0m │\n",
       "├─────────────────────────────────┼────────────────────────┼───────────────┤\n",
       "│ dense_3 (\u001b[38;5;33mDense\u001b[0m)                 │ (\u001b[38;5;45mNone\u001b[0m, \u001b[38;5;34m1\u001b[0m)              │           \u001b[38;5;34m121\u001b[0m │\n",
       "└─────────────────────────────────┴────────────────────────┴───────────────┘\n"
      ]
     },
     "metadata": {},
     "output_type": "display_data"
    },
    {
     "data": {
      "text/html": [
       "<pre style=\"white-space:pre;overflow-x:auto;line-height:normal;font-family:Menlo,'DejaVu Sans Mono',consolas,'Courier New',monospace\"><span style=\"font-weight: bold\"> Total params: </span><span style=\"color: #00af00; text-decoration-color: #00af00\">178,761</span> (698.29 KB)\n",
       "</pre>\n"
      ],
      "text/plain": [
       "\u001b[1m Total params: \u001b[0m\u001b[38;5;34m178,761\u001b[0m (698.29 KB)\n"
      ]
     },
     "metadata": {},
     "output_type": "display_data"
    },
    {
     "data": {
      "text/html": [
       "<pre style=\"white-space:pre;overflow-x:auto;line-height:normal;font-family:Menlo,'DejaVu Sans Mono',consolas,'Courier New',monospace\"><span style=\"font-weight: bold\"> Trainable params: </span><span style=\"color: #00af00; text-decoration-color: #00af00\">178,761</span> (698.29 KB)\n",
       "</pre>\n"
      ],
      "text/plain": [
       "\u001b[1m Trainable params: \u001b[0m\u001b[38;5;34m178,761\u001b[0m (698.29 KB)\n"
      ]
     },
     "metadata": {},
     "output_type": "display_data"
    },
    {
     "data": {
      "text/html": [
       "<pre style=\"white-space:pre;overflow-x:auto;line-height:normal;font-family:Menlo,'DejaVu Sans Mono',consolas,'Courier New',monospace\"><span style=\"font-weight: bold\"> Non-trainable params: </span><span style=\"color: #00af00; text-decoration-color: #00af00\">0</span> (0.00 B)\n",
       "</pre>\n"
      ],
      "text/plain": [
       "\u001b[1m Non-trainable params: \u001b[0m\u001b[38;5;34m0\u001b[0m (0.00 B)\n"
      ]
     },
     "metadata": {},
     "output_type": "display_data"
    }
   ],
   "source": [
    "model.summary()"
   ]
  },
  {
   "cell_type": "code",
   "execution_count": 55,
   "metadata": {},
   "outputs": [
    {
     "name": "stdout",
     "output_type": "stream",
     "text": [
      "Epoch 1/100\n",
      "\u001b[1m25/25\u001b[0m \u001b[32m━━━━━━━━━━━━━━━━━━━━\u001b[0m\u001b[37m\u001b[0m \u001b[1m19s\u001b[0m 382ms/step - accuracy: 0.0000e+00 - loss: 0.0933 - val_accuracy: 0.0013 - val_loss: 0.0582\n",
      "Epoch 2/100\n",
      "\u001b[1m25/25\u001b[0m \u001b[32m━━━━━━━━━━━━━━━━━━━━\u001b[0m\u001b[37m\u001b[0m \u001b[1m9s\u001b[0m 367ms/step - accuracy: 0.0000e+00 - loss: 0.0115 - val_accuracy: 0.0013 - val_loss: 0.0262\n",
      "Epoch 3/100\n",
      "\u001b[1m25/25\u001b[0m \u001b[32m━━━━━━━━━━━━━━━━━━━━\u001b[0m\u001b[37m\u001b[0m \u001b[1m8s\u001b[0m 315ms/step - accuracy: 0.0000e+00 - loss: 0.0070 - val_accuracy: 0.0013 - val_loss: 0.0276\n",
      "Epoch 4/100\n",
      "\u001b[1m25/25\u001b[0m \u001b[32m━━━━━━━━━━━━━━━━━━━━\u001b[0m\u001b[37m\u001b[0m \u001b[1m8s\u001b[0m 314ms/step - accuracy: 0.0000e+00 - loss: 0.0051 - val_accuracy: 0.0013 - val_loss: 0.0325\n",
      "Epoch 5/100\n",
      "\u001b[1m25/25\u001b[0m \u001b[32m━━━━━━━━━━━━━━━━━━━━\u001b[0m\u001b[37m\u001b[0m \u001b[1m8s\u001b[0m 320ms/step - accuracy: 0.0000e+00 - loss: 0.0054 - val_accuracy: 0.0013 - val_loss: 0.0198\n",
      "Epoch 6/100\n",
      "\u001b[1m25/25\u001b[0m \u001b[32m━━━━━━━━━━━━━━━━━━━━\u001b[0m\u001b[37m\u001b[0m \u001b[1m8s\u001b[0m 316ms/step - accuracy: 0.0000e+00 - loss: 0.0041 - val_accuracy: 0.0013 - val_loss: 0.0176\n",
      "Epoch 7/100\n",
      "\u001b[1m25/25\u001b[0m \u001b[32m━━━━━━━━━━━━━━━━━━━━\u001b[0m\u001b[37m\u001b[0m \u001b[1m8s\u001b[0m 318ms/step - accuracy: 0.0000e+00 - loss: 0.0038 - val_accuracy: 0.0013 - val_loss: 0.0170\n",
      "Epoch 8/100\n",
      "\u001b[1m25/25\u001b[0m \u001b[32m━━━━━━━━━━━━━━━━━━━━\u001b[0m\u001b[37m\u001b[0m \u001b[1m8s\u001b[0m 321ms/step - accuracy: 0.0000e+00 - loss: 0.0041 - val_accuracy: 0.0013 - val_loss: 0.0228\n",
      "Epoch 9/100\n",
      "\u001b[1m25/25\u001b[0m \u001b[32m━━━━━━━━━━━━━━━━━━━━\u001b[0m\u001b[37m\u001b[0m \u001b[1m8s\u001b[0m 321ms/step - accuracy: 0.0000e+00 - loss: 0.0038 - val_accuracy: 0.0013 - val_loss: 0.0194\n",
      "Epoch 10/100\n",
      "\u001b[1m25/25\u001b[0m \u001b[32m━━━━━━━━━━━━━━━━━━━━\u001b[0m\u001b[37m\u001b[0m \u001b[1m8s\u001b[0m 320ms/step - accuracy: 0.0000e+00 - loss: 0.0035 - val_accuracy: 0.0013 - val_loss: 0.0239\n",
      "Epoch 11/100\n",
      "\u001b[1m25/25\u001b[0m \u001b[32m━━━━━━━━━━━━━━━━━━━━\u001b[0m\u001b[37m\u001b[0m \u001b[1m8s\u001b[0m 317ms/step - accuracy: 0.0000e+00 - loss: 0.0032 - val_accuracy: 0.0013 - val_loss: 0.0247\n",
      "Epoch 12/100\n",
      "\u001b[1m25/25\u001b[0m \u001b[32m━━━━━━━━━━━━━━━━━━━━\u001b[0m\u001b[37m\u001b[0m \u001b[1m8s\u001b[0m 318ms/step - accuracy: 0.0000e+00 - loss: 0.0032 - val_accuracy: 0.0013 - val_loss: 0.0257\n",
      "Epoch 13/100\n",
      "\u001b[1m25/25\u001b[0m \u001b[32m━━━━━━━━━━━━━━━━━━━━\u001b[0m\u001b[37m\u001b[0m \u001b[1m8s\u001b[0m 319ms/step - accuracy: 0.0000e+00 - loss: 0.0033 - val_accuracy: 0.0013 - val_loss: 0.0255\n",
      "Epoch 14/100\n",
      "\u001b[1m25/25\u001b[0m \u001b[32m━━━━━━━━━━━━━━━━━━━━\u001b[0m\u001b[37m\u001b[0m \u001b[1m8s\u001b[0m 315ms/step - accuracy: 0.0000e+00 - loss: 0.0029 - val_accuracy: 0.0013 - val_loss: 0.0278\n",
      "Epoch 15/100\n",
      "\u001b[1m25/25\u001b[0m \u001b[32m━━━━━━━━━━━━━━━━━━━━\u001b[0m\u001b[37m\u001b[0m \u001b[1m8s\u001b[0m 318ms/step - accuracy: 0.0000e+00 - loss: 0.0034 - val_accuracy: 0.0013 - val_loss: 0.0275\n",
      "Epoch 16/100\n",
      "\u001b[1m25/25\u001b[0m \u001b[32m━━━━━━━━━━━━━━━━━━━━\u001b[0m\u001b[37m\u001b[0m \u001b[1m8s\u001b[0m 315ms/step - accuracy: 0.0000e+00 - loss: 0.0032 - val_accuracy: 0.0013 - val_loss: 0.0291\n",
      "Epoch 17/100\n",
      "\u001b[1m25/25\u001b[0m \u001b[32m━━━━━━━━━━━━━━━━━━━━\u001b[0m\u001b[37m\u001b[0m \u001b[1m8s\u001b[0m 316ms/step - accuracy: 0.0000e+00 - loss: 0.0036 - val_accuracy: 0.0013 - val_loss: 0.0311\n",
      "Epoch 18/100\n",
      "\u001b[1m25/25\u001b[0m \u001b[32m━━━━━━━━━━━━━━━━━━━━\u001b[0m\u001b[37m\u001b[0m \u001b[1m8s\u001b[0m 318ms/step - accuracy: 0.0000e+00 - loss: 0.0031 - val_accuracy: 0.0013 - val_loss: 0.0316\n",
      "Epoch 19/100\n",
      "\u001b[1m25/25\u001b[0m \u001b[32m━━━━━━━━━━━━━━━━━━━━\u001b[0m\u001b[37m\u001b[0m \u001b[1m8s\u001b[0m 315ms/step - accuracy: 0.0000e+00 - loss: 0.0028 - val_accuracy: 0.0013 - val_loss: 0.0315\n",
      "Epoch 20/100\n",
      "\u001b[1m25/25\u001b[0m \u001b[32m━━━━━━━━━━━━━━━━━━━━\u001b[0m\u001b[37m\u001b[0m \u001b[1m8s\u001b[0m 315ms/step - accuracy: 0.0000e+00 - loss: 0.0031 - val_accuracy: 0.0013 - val_loss: 0.0299\n",
      "Epoch 21/100\n",
      "\u001b[1m25/25\u001b[0m \u001b[32m━━━━━━━━━━━━━━━━━━━━\u001b[0m\u001b[37m\u001b[0m \u001b[1m8s\u001b[0m 315ms/step - accuracy: 0.0000e+00 - loss: 0.0027 - val_accuracy: 0.0013 - val_loss: 0.0337\n",
      "Epoch 22/100\n",
      "\u001b[1m25/25\u001b[0m \u001b[32m━━━━━━━━━━━━━━━━━━━━\u001b[0m\u001b[37m\u001b[0m \u001b[1m8s\u001b[0m 314ms/step - accuracy: 0.0000e+00 - loss: 0.0027 - val_accuracy: 0.0013 - val_loss: 0.0309\n",
      "Epoch 23/100\n",
      "\u001b[1m25/25\u001b[0m \u001b[32m━━━━━━━━━━━━━━━━━━━━\u001b[0m\u001b[37m\u001b[0m \u001b[1m8s\u001b[0m 317ms/step - accuracy: 0.0000e+00 - loss: 0.0028 - val_accuracy: 0.0013 - val_loss: 0.0299\n",
      "Epoch 24/100\n",
      "\u001b[1m25/25\u001b[0m \u001b[32m━━━━━━━━━━━━━━━━━━━━\u001b[0m\u001b[37m\u001b[0m \u001b[1m8s\u001b[0m 317ms/step - accuracy: 0.0000e+00 - loss: 0.0024 - val_accuracy: 0.0013 - val_loss: 0.0284\n",
      "Epoch 25/100\n",
      "\u001b[1m25/25\u001b[0m \u001b[32m━━━━━━━━━━━━━━━━━━━━\u001b[0m\u001b[37m\u001b[0m \u001b[1m8s\u001b[0m 322ms/step - accuracy: 0.0000e+00 - loss: 0.0027 - val_accuracy: 0.0013 - val_loss: 0.0323\n",
      "Epoch 26/100\n",
      "\u001b[1m25/25\u001b[0m \u001b[32m━━━━━━━━━━━━━━━━━━━━\u001b[0m\u001b[37m\u001b[0m \u001b[1m8s\u001b[0m 317ms/step - accuracy: 0.0000e+00 - loss: 0.0027 - val_accuracy: 0.0013 - val_loss: 0.0314\n",
      "Epoch 27/100\n",
      "\u001b[1m25/25\u001b[0m \u001b[32m━━━━━━━━━━━━━━━━━━━━\u001b[0m\u001b[37m\u001b[0m \u001b[1m8s\u001b[0m 318ms/step - accuracy: 0.0000e+00 - loss: 0.0025 - val_accuracy: 0.0013 - val_loss: 0.0311\n",
      "Epoch 28/100\n",
      "\u001b[1m25/25\u001b[0m \u001b[32m━━━━━━━━━━━━━━━━━━━━\u001b[0m\u001b[37m\u001b[0m \u001b[1m8s\u001b[0m 315ms/step - accuracy: 0.0000e+00 - loss: 0.0025 - val_accuracy: 0.0013 - val_loss: 0.0300\n",
      "Epoch 29/100\n",
      "\u001b[1m25/25\u001b[0m \u001b[32m━━━━━━━━━━━━━━━━━━━━\u001b[0m\u001b[37m\u001b[0m \u001b[1m8s\u001b[0m 313ms/step - accuracy: 0.0000e+00 - loss: 0.0022 - val_accuracy: 0.0013 - val_loss: 0.0325\n",
      "Epoch 30/100\n",
      "\u001b[1m25/25\u001b[0m \u001b[32m━━━━━━━━━━━━━━━━━━━━\u001b[0m\u001b[37m\u001b[0m \u001b[1m8s\u001b[0m 318ms/step - accuracy: 0.0000e+00 - loss: 0.0024 - val_accuracy: 0.0013 - val_loss: 0.0291\n",
      "Epoch 31/100\n",
      "\u001b[1m25/25\u001b[0m \u001b[32m━━━━━━━━━━━━━━━━━━━━\u001b[0m\u001b[37m\u001b[0m \u001b[1m8s\u001b[0m 317ms/step - accuracy: 0.0000e+00 - loss: 0.0025 - val_accuracy: 0.0013 - val_loss: 0.0333\n",
      "Epoch 32/100\n",
      "\u001b[1m25/25\u001b[0m \u001b[32m━━━━━━━━━━━━━━━━━━━━\u001b[0m\u001b[37m\u001b[0m \u001b[1m8s\u001b[0m 323ms/step - accuracy: 0.0000e+00 - loss: 0.0025 - val_accuracy: 0.0013 - val_loss: 0.0307\n",
      "Epoch 33/100\n",
      "\u001b[1m25/25\u001b[0m \u001b[32m━━━━━━━━━━━━━━━━━━━━\u001b[0m\u001b[37m\u001b[0m \u001b[1m8s\u001b[0m 317ms/step - accuracy: 0.0000e+00 - loss: 0.0025 - val_accuracy: 0.0013 - val_loss: 0.0296\n",
      "Epoch 34/100\n",
      "\u001b[1m25/25\u001b[0m \u001b[32m━━━━━━━━━━━━━━━━━━━━\u001b[0m\u001b[37m\u001b[0m \u001b[1m8s\u001b[0m 317ms/step - accuracy: 0.0000e+00 - loss: 0.0023 - val_accuracy: 0.0013 - val_loss: 0.0313\n",
      "Epoch 35/100\n",
      "\u001b[1m25/25\u001b[0m \u001b[32m━━━━━━━━━━━━━━━━━━━━\u001b[0m\u001b[37m\u001b[0m \u001b[1m8s\u001b[0m 317ms/step - accuracy: 0.0000e+00 - loss: 0.0019 - val_accuracy: 0.0013 - val_loss: 0.0287\n",
      "Epoch 36/100\n",
      "\u001b[1m25/25\u001b[0m \u001b[32m━━━━━━━━━━━━━━━━━━━━\u001b[0m\u001b[37m\u001b[0m \u001b[1m8s\u001b[0m 317ms/step - accuracy: 0.0000e+00 - loss: 0.0022 - val_accuracy: 0.0013 - val_loss: 0.0283\n",
      "Epoch 37/100\n",
      "\u001b[1m25/25\u001b[0m \u001b[32m━━━━━━━━━━━━━━━━━━━━\u001b[0m\u001b[37m\u001b[0m \u001b[1m8s\u001b[0m 318ms/step - accuracy: 0.0000e+00 - loss: 0.0024 - val_accuracy: 0.0013 - val_loss: 0.0331\n",
      "Epoch 38/100\n",
      "\u001b[1m25/25\u001b[0m \u001b[32m━━━━━━━━━━━━━━━━━━━━\u001b[0m\u001b[37m\u001b[0m \u001b[1m8s\u001b[0m 316ms/step - accuracy: 0.0000e+00 - loss: 0.0020 - val_accuracy: 0.0013 - val_loss: 0.0278\n",
      "Epoch 39/100\n",
      "\u001b[1m25/25\u001b[0m \u001b[32m━━━━━━━━━━━━━━━━━━━━\u001b[0m\u001b[37m\u001b[0m \u001b[1m8s\u001b[0m 313ms/step - accuracy: 0.0000e+00 - loss: 0.0022 - val_accuracy: 0.0013 - val_loss: 0.0293\n",
      "Epoch 40/100\n",
      "\u001b[1m25/25\u001b[0m \u001b[32m━━━━━━━━━━━━━━━━━━━━\u001b[0m\u001b[37m\u001b[0m \u001b[1m8s\u001b[0m 317ms/step - accuracy: 0.0000e+00 - loss: 0.0019 - val_accuracy: 0.0013 - val_loss: 0.0279\n",
      "Epoch 41/100\n",
      "\u001b[1m25/25\u001b[0m \u001b[32m━━━━━━━━━━━━━━━━━━━━\u001b[0m\u001b[37m\u001b[0m \u001b[1m8s\u001b[0m 317ms/step - accuracy: 0.0000e+00 - loss: 0.0018 - val_accuracy: 0.0013 - val_loss: 0.0321\n",
      "Epoch 42/100\n",
      "\u001b[1m25/25\u001b[0m \u001b[32m━━━━━━━━━━━━━━━━━━━━\u001b[0m\u001b[37m\u001b[0m \u001b[1m8s\u001b[0m 319ms/step - accuracy: 0.0000e+00 - loss: 0.0017 - val_accuracy: 0.0013 - val_loss: 0.0265\n",
      "Epoch 43/100\n",
      "\u001b[1m25/25\u001b[0m \u001b[32m━━━━━━━━━━━━━━━━━━━━\u001b[0m\u001b[37m\u001b[0m \u001b[1m8s\u001b[0m 313ms/step - accuracy: 0.0000e+00 - loss: 0.0018 - val_accuracy: 0.0013 - val_loss: 0.0290\n",
      "Epoch 44/100\n",
      "\u001b[1m25/25\u001b[0m \u001b[32m━━━━━━━━━━━━━━━━━━━━\u001b[0m\u001b[37m\u001b[0m \u001b[1m8s\u001b[0m 315ms/step - accuracy: 0.0000e+00 - loss: 0.0017 - val_accuracy: 0.0013 - val_loss: 0.0267\n",
      "Epoch 45/100\n",
      "\u001b[1m25/25\u001b[0m \u001b[32m━━━━━━━━━━━━━━━━━━━━\u001b[0m\u001b[37m\u001b[0m \u001b[1m8s\u001b[0m 319ms/step - accuracy: 0.0000e+00 - loss: 0.0022 - val_accuracy: 0.0013 - val_loss: 0.0281\n",
      "Epoch 46/100\n",
      "\u001b[1m25/25\u001b[0m \u001b[32m━━━━━━━━━━━━━━━━━━━━\u001b[0m\u001b[37m\u001b[0m \u001b[1m8s\u001b[0m 317ms/step - accuracy: 0.0000e+00 - loss: 0.0020 - val_accuracy: 0.0013 - val_loss: 0.0253\n",
      "Epoch 47/100\n",
      "\u001b[1m25/25\u001b[0m \u001b[32m━━━━━━━━━━━━━━━━━━━━\u001b[0m\u001b[37m\u001b[0m \u001b[1m8s\u001b[0m 319ms/step - accuracy: 0.0000e+00 - loss: 0.0016 - val_accuracy: 0.0013 - val_loss: 0.0245\n",
      "Epoch 48/100\n",
      "\u001b[1m25/25\u001b[0m \u001b[32m━━━━━━━━━━━━━━━━━━━━\u001b[0m\u001b[37m\u001b[0m \u001b[1m8s\u001b[0m 313ms/step - accuracy: 0.0000e+00 - loss: 0.0017 - val_accuracy: 0.0013 - val_loss: 0.0268\n",
      "Epoch 49/100\n",
      "\u001b[1m25/25\u001b[0m \u001b[32m━━━━━━━━━━━━━━━━━━━━\u001b[0m\u001b[37m\u001b[0m \u001b[1m8s\u001b[0m 322ms/step - accuracy: 0.0000e+00 - loss: 0.0017 - val_accuracy: 0.0013 - val_loss: 0.0258\n",
      "Epoch 50/100\n",
      "\u001b[1m25/25\u001b[0m \u001b[32m━━━━━━━━━━━━━━━━━━━━\u001b[0m\u001b[37m\u001b[0m \u001b[1m8s\u001b[0m 314ms/step - accuracy: 0.0000e+00 - loss: 0.0018 - val_accuracy: 0.0013 - val_loss: 0.0245\n",
      "Epoch 51/100\n",
      "\u001b[1m25/25\u001b[0m \u001b[32m━━━━━━━━━━━━━━━━━━━━\u001b[0m\u001b[37m\u001b[0m \u001b[1m8s\u001b[0m 317ms/step - accuracy: 0.0000e+00 - loss: 0.0020 - val_accuracy: 0.0013 - val_loss: 0.0245\n",
      "Epoch 52/100\n",
      "\u001b[1m25/25\u001b[0m \u001b[32m━━━━━━━━━━━━━━━━━━━━\u001b[0m\u001b[37m\u001b[0m \u001b[1m8s\u001b[0m 314ms/step - accuracy: 0.0000e+00 - loss: 0.0019 - val_accuracy: 0.0013 - val_loss: 0.0261\n",
      "Epoch 53/100\n",
      "\u001b[1m25/25\u001b[0m \u001b[32m━━━━━━━━━━━━━━━━━━━━\u001b[0m\u001b[37m\u001b[0m \u001b[1m8s\u001b[0m 316ms/step - accuracy: 0.0000e+00 - loss: 0.0018 - val_accuracy: 0.0013 - val_loss: 0.0270\n",
      "Epoch 54/100\n",
      "\u001b[1m25/25\u001b[0m \u001b[32m━━━━━━━━━━━━━━━━━━━━\u001b[0m\u001b[37m\u001b[0m \u001b[1m8s\u001b[0m 314ms/step - accuracy: 0.0000e+00 - loss: 0.0017 - val_accuracy: 0.0013 - val_loss: 0.0264\n",
      "Epoch 55/100\n",
      "\u001b[1m25/25\u001b[0m \u001b[32m━━━━━━━━━━━━━━━━━━━━\u001b[0m\u001b[37m\u001b[0m \u001b[1m8s\u001b[0m 318ms/step - accuracy: 0.0000e+00 - loss: 0.0017 - val_accuracy: 0.0013 - val_loss: 0.0244\n",
      "Epoch 56/100\n",
      "\u001b[1m25/25\u001b[0m \u001b[32m━━━━━━━━━━━━━━━━━━━━\u001b[0m\u001b[37m\u001b[0m \u001b[1m8s\u001b[0m 315ms/step - accuracy: 0.0000e+00 - loss: 0.0017 - val_accuracy: 0.0013 - val_loss: 0.0258\n",
      "Epoch 57/100\n",
      "\u001b[1m25/25\u001b[0m \u001b[32m━━━━━━━━━━━━━━━━━━━━\u001b[0m\u001b[37m\u001b[0m \u001b[1m8s\u001b[0m 315ms/step - accuracy: 0.0000e+00 - loss: 0.0018 - val_accuracy: 0.0013 - val_loss: 0.0255\n",
      "Epoch 58/100\n",
      "\u001b[1m25/25\u001b[0m \u001b[32m━━━━━━━━━━━━━━━━━━━━\u001b[0m\u001b[37m\u001b[0m \u001b[1m8s\u001b[0m 316ms/step - accuracy: 0.0000e+00 - loss: 0.0012 - val_accuracy: 0.0013 - val_loss: 0.0257\n",
      "Epoch 59/100\n",
      "\u001b[1m25/25\u001b[0m \u001b[32m━━━━━━━━━━━━━━━━━━━━\u001b[0m\u001b[37m\u001b[0m \u001b[1m8s\u001b[0m 317ms/step - accuracy: 0.0000e+00 - loss: 0.0015 - val_accuracy: 0.0013 - val_loss: 0.0235\n",
      "Epoch 60/100\n",
      "\u001b[1m25/25\u001b[0m \u001b[32m━━━━━━━━━━━━━━━━━━━━\u001b[0m\u001b[37m\u001b[0m \u001b[1m8s\u001b[0m 314ms/step - accuracy: 0.0000e+00 - loss: 0.0015 - val_accuracy: 0.0013 - val_loss: 0.0295\n",
      "Epoch 61/100\n",
      "\u001b[1m25/25\u001b[0m \u001b[32m━━━━━━━━━━━━━━━━━━━━\u001b[0m\u001b[37m\u001b[0m \u001b[1m8s\u001b[0m 316ms/step - accuracy: 0.0000e+00 - loss: 0.0014 - val_accuracy: 0.0013 - val_loss: 0.0293\n",
      "Epoch 62/100\n",
      "\u001b[1m25/25\u001b[0m \u001b[32m━━━━━━━━━━━━━━━━━━━━\u001b[0m\u001b[37m\u001b[0m \u001b[1m8s\u001b[0m 315ms/step - accuracy: 0.0000e+00 - loss: 0.0016 - val_accuracy: 0.0013 - val_loss: 0.0241\n",
      "Epoch 63/100\n",
      "\u001b[1m25/25\u001b[0m \u001b[32m━━━━━━━━━━━━━━━━━━━━\u001b[0m\u001b[37m\u001b[0m \u001b[1m8s\u001b[0m 317ms/step - accuracy: 0.0000e+00 - loss: 0.0015 - val_accuracy: 0.0013 - val_loss: 0.0254\n",
      "Epoch 64/100\n",
      "\u001b[1m25/25\u001b[0m \u001b[32m━━━━━━━━━━━━━━━━━━━━\u001b[0m\u001b[37m\u001b[0m \u001b[1m8s\u001b[0m 313ms/step - accuracy: 0.0000e+00 - loss: 0.0012 - val_accuracy: 0.0013 - val_loss: 0.0310\n",
      "Epoch 65/100\n",
      "\u001b[1m25/25\u001b[0m \u001b[32m━━━━━━━━━━━━━━━━━━━━\u001b[0m\u001b[37m\u001b[0m \u001b[1m8s\u001b[0m 314ms/step - accuracy: 0.0000e+00 - loss: 0.0012 - val_accuracy: 0.0013 - val_loss: 0.0262\n",
      "Epoch 66/100\n",
      "\u001b[1m25/25\u001b[0m \u001b[32m━━━━━━━━━━━━━━━━━━━━\u001b[0m\u001b[37m\u001b[0m \u001b[1m8s\u001b[0m 316ms/step - accuracy: 0.0000e+00 - loss: 0.0015 - val_accuracy: 0.0013 - val_loss: 0.0241\n",
      "Epoch 67/100\n",
      "\u001b[1m25/25\u001b[0m \u001b[32m━━━━━━━━━━━━━━━━━━━━\u001b[0m\u001b[37m\u001b[0m \u001b[1m8s\u001b[0m 318ms/step - accuracy: 0.0000e+00 - loss: 0.0011 - val_accuracy: 0.0013 - val_loss: 0.0235\n",
      "Epoch 68/100\n",
      "\u001b[1m25/25\u001b[0m \u001b[32m━━━━━━━━━━━━━━━━━━━━\u001b[0m\u001b[37m\u001b[0m \u001b[1m8s\u001b[0m 314ms/step - accuracy: 0.0000e+00 - loss: 0.0013 - val_accuracy: 0.0013 - val_loss: 0.0320\n",
      "Epoch 69/100\n",
      "\u001b[1m25/25\u001b[0m \u001b[32m━━━━━━━━━━━━━━━━━━━━\u001b[0m\u001b[37m\u001b[0m \u001b[1m8s\u001b[0m 313ms/step - accuracy: 0.0000e+00 - loss: 0.0014 - val_accuracy: 0.0013 - val_loss: 0.0287\n",
      "Epoch 70/100\n",
      "\u001b[1m25/25\u001b[0m \u001b[32m━━━━━━━━━━━━━━━━━━━━\u001b[0m\u001b[37m\u001b[0m \u001b[1m8s\u001b[0m 317ms/step - accuracy: 0.0000e+00 - loss: 0.0013 - val_accuracy: 0.0013 - val_loss: 0.0276\n",
      "Epoch 71/100\n",
      "\u001b[1m25/25\u001b[0m \u001b[32m━━━━━━━━━━━━━━━━━━━━\u001b[0m\u001b[37m\u001b[0m \u001b[1m8s\u001b[0m 315ms/step - accuracy: 0.0000e+00 - loss: 0.0013 - val_accuracy: 0.0013 - val_loss: 0.0306\n",
      "Epoch 72/100\n",
      "\u001b[1m25/25\u001b[0m \u001b[32m━━━━━━━━━━━━━━━━━━━━\u001b[0m\u001b[37m\u001b[0m \u001b[1m8s\u001b[0m 317ms/step - accuracy: 0.0000e+00 - loss: 0.0014 - val_accuracy: 0.0013 - val_loss: 0.0282\n",
      "Epoch 73/100\n",
      "\u001b[1m25/25\u001b[0m \u001b[32m━━━━━━━━━━━━━━━━━━━━\u001b[0m\u001b[37m\u001b[0m \u001b[1m8s\u001b[0m 317ms/step - accuracy: 0.0000e+00 - loss: 0.0013 - val_accuracy: 0.0013 - val_loss: 0.0310\n",
      "Epoch 74/100\n",
      "\u001b[1m25/25\u001b[0m \u001b[32m━━━━━━━━━━━━━━━━━━━━\u001b[0m\u001b[37m\u001b[0m \u001b[1m10s\u001b[0m 322ms/step - accuracy: 0.0000e+00 - loss: 0.0011 - val_accuracy: 0.0013 - val_loss: 0.0331\n",
      "Epoch 75/100\n",
      "\u001b[1m25/25\u001b[0m \u001b[32m━━━━━━━━━━━━━━━━━━━━\u001b[0m\u001b[37m\u001b[0m \u001b[1m8s\u001b[0m 313ms/step - accuracy: 0.0000e+00 - loss: 0.0013 - val_accuracy: 0.0013 - val_loss: 0.0252\n",
      "Epoch 76/100\n",
      "\u001b[1m25/25\u001b[0m \u001b[32m━━━━━━━━━━━━━━━━━━━━\u001b[0m\u001b[37m\u001b[0m \u001b[1m8s\u001b[0m 311ms/step - accuracy: 0.0000e+00 - loss: 0.0012 - val_accuracy: 0.0013 - val_loss: 0.0271\n",
      "Epoch 77/100\n",
      "\u001b[1m25/25\u001b[0m \u001b[32m━━━━━━━━━━━━━━━━━━━━\u001b[0m\u001b[37m\u001b[0m \u001b[1m8s\u001b[0m 312ms/step - accuracy: 0.0000e+00 - loss: 0.0010 - val_accuracy: 0.0013 - val_loss: 0.0294\n",
      "Epoch 78/100\n",
      "\u001b[1m25/25\u001b[0m \u001b[32m━━━━━━━━━━━━━━━━━━━━\u001b[0m\u001b[37m\u001b[0m \u001b[1m8s\u001b[0m 312ms/step - accuracy: 0.0000e+00 - loss: 0.0012 - val_accuracy: 0.0013 - val_loss: 0.0293\n",
      "Epoch 79/100\n",
      "\u001b[1m25/25\u001b[0m \u001b[32m━━━━━━━━━━━━━━━━━━━━\u001b[0m\u001b[37m\u001b[0m \u001b[1m8s\u001b[0m 313ms/step - accuracy: 0.0000e+00 - loss: 9.5955e-04 - val_accuracy: 0.0013 - val_loss: 0.0260\n",
      "Epoch 80/100\n",
      "\u001b[1m25/25\u001b[0m \u001b[32m━━━━━━━━━━━━━━━━━━━━\u001b[0m\u001b[37m\u001b[0m \u001b[1m8s\u001b[0m 313ms/step - accuracy: 0.0000e+00 - loss: 0.0012 - val_accuracy: 0.0013 - val_loss: 0.0343\n",
      "Epoch 81/100\n",
      "\u001b[1m25/25\u001b[0m \u001b[32m━━━━━━━━━━━━━━━━━━━━\u001b[0m\u001b[37m\u001b[0m \u001b[1m8s\u001b[0m 315ms/step - accuracy: 0.0000e+00 - loss: 0.0012 - val_accuracy: 0.0013 - val_loss: 0.0291\n",
      "Epoch 82/100\n",
      "\u001b[1m25/25\u001b[0m \u001b[32m━━━━━━━━━━━━━━━━━━━━\u001b[0m\u001b[37m\u001b[0m \u001b[1m8s\u001b[0m 314ms/step - accuracy: 0.0000e+00 - loss: 0.0011 - val_accuracy: 0.0013 - val_loss: 0.0307\n",
      "Epoch 83/100\n",
      "\u001b[1m25/25\u001b[0m \u001b[32m━━━━━━━━━━━━━━━━━━━━\u001b[0m\u001b[37m\u001b[0m \u001b[1m8s\u001b[0m 315ms/step - accuracy: 0.0000e+00 - loss: 0.0013 - val_accuracy: 0.0013 - val_loss: 0.0318\n",
      "Epoch 84/100\n",
      "\u001b[1m25/25\u001b[0m \u001b[32m━━━━━━━━━━━━━━━━━━━━\u001b[0m\u001b[37m\u001b[0m \u001b[1m8s\u001b[0m 313ms/step - accuracy: 0.0000e+00 - loss: 0.0013 - val_accuracy: 0.0013 - val_loss: 0.0348\n",
      "Epoch 85/100\n",
      "\u001b[1m25/25\u001b[0m \u001b[32m━━━━━━━━━━━━━━━━━━━━\u001b[0m\u001b[37m\u001b[0m \u001b[1m8s\u001b[0m 318ms/step - accuracy: 0.0000e+00 - loss: 0.0012 - val_accuracy: 0.0013 - val_loss: 0.0318\n",
      "Epoch 86/100\n",
      "\u001b[1m25/25\u001b[0m \u001b[32m━━━━━━━━━━━━━━━━━━━━\u001b[0m\u001b[37m\u001b[0m \u001b[1m8s\u001b[0m 311ms/step - accuracy: 0.0000e+00 - loss: 0.0011 - val_accuracy: 0.0013 - val_loss: 0.0311\n",
      "Epoch 87/100\n",
      "\u001b[1m25/25\u001b[0m \u001b[32m━━━━━━━━━━━━━━━━━━━━\u001b[0m\u001b[37m\u001b[0m \u001b[1m8s\u001b[0m 312ms/step - accuracy: 0.0000e+00 - loss: 0.0011 - val_accuracy: 0.0013 - val_loss: 0.0294\n",
      "Epoch 88/100\n",
      "\u001b[1m25/25\u001b[0m \u001b[32m━━━━━━━━━━━━━━━━━━━━\u001b[0m\u001b[37m\u001b[0m \u001b[1m8s\u001b[0m 316ms/step - accuracy: 0.0000e+00 - loss: 9.7875e-04 - val_accuracy: 0.0013 - val_loss: 0.0296\n",
      "Epoch 89/100\n",
      "\u001b[1m25/25\u001b[0m \u001b[32m━━━━━━━━━━━━━━━━━━━━\u001b[0m\u001b[37m\u001b[0m \u001b[1m8s\u001b[0m 312ms/step - accuracy: 0.0000e+00 - loss: 0.0012 - val_accuracy: 0.0013 - val_loss: 0.0290\n",
      "Epoch 90/100\n",
      "\u001b[1m25/25\u001b[0m \u001b[32m━━━━━━━━━━━━━━━━━━━━\u001b[0m\u001b[37m\u001b[0m \u001b[1m8s\u001b[0m 316ms/step - accuracy: 0.0000e+00 - loss: 0.0011 - val_accuracy: 0.0013 - val_loss: 0.0323\n",
      "Epoch 91/100\n",
      "\u001b[1m25/25\u001b[0m \u001b[32m━━━━━━━━━━━━━━━━━━━━\u001b[0m\u001b[37m\u001b[0m \u001b[1m8s\u001b[0m 313ms/step - accuracy: 0.0000e+00 - loss: 0.0011 - val_accuracy: 0.0013 - val_loss: 0.0335\n",
      "Epoch 92/100\n",
      "\u001b[1m25/25\u001b[0m \u001b[32m━━━━━━━━━━━━━━━━━━━━\u001b[0m\u001b[37m\u001b[0m \u001b[1m8s\u001b[0m 318ms/step - accuracy: 0.0000e+00 - loss: 9.8164e-04 - val_accuracy: 0.0013 - val_loss: 0.0327\n",
      "Epoch 93/100\n",
      "\u001b[1m25/25\u001b[0m \u001b[32m━━━━━━━━━━━━━━━━━━━━\u001b[0m\u001b[37m\u001b[0m \u001b[1m8s\u001b[0m 317ms/step - accuracy: 0.0000e+00 - loss: 0.0011 - val_accuracy: 0.0013 - val_loss: 0.0315\n",
      "Epoch 94/100\n",
      "\u001b[1m25/25\u001b[0m \u001b[32m━━━━━━━━━━━━━━━━━━━━\u001b[0m\u001b[37m\u001b[0m \u001b[1m8s\u001b[0m 316ms/step - accuracy: 0.0000e+00 - loss: 0.0011 - val_accuracy: 0.0013 - val_loss: 0.0299\n",
      "Epoch 95/100\n",
      "\u001b[1m25/25\u001b[0m \u001b[32m━━━━━━━━━━━━━━━━━━━━\u001b[0m\u001b[37m\u001b[0m \u001b[1m8s\u001b[0m 315ms/step - accuracy: 0.0000e+00 - loss: 9.9101e-04 - val_accuracy: 0.0013 - val_loss: 0.0326\n",
      "Epoch 96/100\n",
      "\u001b[1m25/25\u001b[0m \u001b[32m━━━━━━━━━━━━━━━━━━━━\u001b[0m\u001b[37m\u001b[0m \u001b[1m8s\u001b[0m 317ms/step - accuracy: 0.0000e+00 - loss: 9.5581e-04 - val_accuracy: 0.0013 - val_loss: 0.0299\n",
      "Epoch 97/100\n",
      "\u001b[1m25/25\u001b[0m \u001b[32m━━━━━━━━━━━━━━━━━━━━\u001b[0m\u001b[37m\u001b[0m \u001b[1m8s\u001b[0m 317ms/step - accuracy: 0.0000e+00 - loss: 9.3513e-04 - val_accuracy: 0.0013 - val_loss: 0.0315\n",
      "Epoch 98/100\n",
      "\u001b[1m25/25\u001b[0m \u001b[32m━━━━━━━━━━━━━━━━━━━━\u001b[0m\u001b[37m\u001b[0m \u001b[1m8s\u001b[0m 311ms/step - accuracy: 0.0000e+00 - loss: 0.0014 - val_accuracy: 0.0013 - val_loss: 0.0375\n",
      "Epoch 99/100\n",
      "\u001b[1m25/25\u001b[0m \u001b[32m━━━━━━━━━━━━━━━━━━━━\u001b[0m\u001b[37m\u001b[0m \u001b[1m8s\u001b[0m 316ms/step - accuracy: 0.0000e+00 - loss: 0.0011 - val_accuracy: 0.0013 - val_loss: 0.0301\n",
      "Epoch 100/100\n",
      "\u001b[1m25/25\u001b[0m \u001b[32m━━━━━━━━━━━━━━━━━━━━\u001b[0m\u001b[37m\u001b[0m \u001b[1m8s\u001b[0m 311ms/step - accuracy: 0.0000e+00 - loss: 0.0010 - val_accuracy: 0.0013 - val_loss: 0.0320\n"
     ]
    },
    {
     "data": {
      "text/plain": [
       "<keras.src.callbacks.history.History at 0x1ee3afb3290>"
      ]
     },
     "execution_count": 55,
     "metadata": {},
     "output_type": "execute_result"
    }
   ],
   "source": [
    "model.fit(X_train,y_train,validation_data=(X_test,ytest),epochs=100,batch_size=64,verbose=1)"
   ]
  },
  {
   "cell_type": "code",
   "execution_count": 56,
   "metadata": {},
   "outputs": [],
   "source": [
    "import tensorflow as tf"
   ]
  },
  {
   "cell_type": "code",
   "execution_count": 57,
   "metadata": {},
   "outputs": [
    {
     "name": "stdout",
     "output_type": "stream",
     "text": [
      "\u001b[1m49/49\u001b[0m \u001b[32m━━━━━━━━━━━━━━━━━━━━\u001b[0m\u001b[37m\u001b[0m \u001b[1m5s\u001b[0m 83ms/step\n",
      "\u001b[1m25/25\u001b[0m \u001b[32m━━━━━━━━━━━━━━━━━━━━\u001b[0m\u001b[37m\u001b[0m \u001b[1m1s\u001b[0m 58ms/step\n"
     ]
    }
   ],
   "source": [
    "### Lets Do the prediction and check performance metrics\n",
    "train_predict=model.predict(X_train)\n",
    "test_predict=model.predict(X_test)"
   ]
  },
  {
   "cell_type": "code",
   "execution_count": 58,
   "metadata": {},
   "outputs": [],
   "source": [
    "##Transformback to original form\n",
    "train_predict=scaler.inverse_transform(train_predict)\n",
    "test_predict=scaler.inverse_transform(test_predict)"
   ]
  },
  {
   "cell_type": "code",
   "execution_count": 59,
   "metadata": {},
   "outputs": [
    {
     "data": {
      "text/plain": [
       "1218.1651872674051"
      ]
     },
     "execution_count": 59,
     "metadata": {},
     "output_type": "execute_result"
    }
   ],
   "source": [
    "### Calculate RMSE performance metrics\n",
    "import math\n",
    "from sklearn.metrics import mean_squared_error\n",
    "math.sqrt(mean_squared_error(y_train,train_predict))"
   ]
  },
  {
   "cell_type": "code",
   "execution_count": 60,
   "metadata": {},
   "outputs": [
    {
     "data": {
      "text/plain": [
       "1201.233193074658"
      ]
     },
     "execution_count": 60,
     "metadata": {},
     "output_type": "execute_result"
    }
   ],
   "source": [
    "### Test Data RMSE\n",
    "math.sqrt(mean_squared_error(ytest,test_predict))"
   ]
  },
  {
   "cell_type": "code",
   "execution_count": 61,
   "metadata": {},
   "outputs": [
    {
     "data": {
      "image/png": "[encoded data removed]",
      "text/plain": [
       "<Figure size 640x480 with 1 Axes>"
      ]
     },
     "metadata": {},
     "output_type": "display_data"
    }
   ],
   "source": [
    "### Plotting \n",
    "# shift train predictions for plotting\n",
    "look_back=100\n",
    "trainPredictPlot = numpy.empty_like(df1)\n",
    "trainPredictPlot[:, :] = np.nan\n",
    "trainPredictPlot[look_back:len(train_predict)+look_back, :] = train_predict\n",
    "# shift test predictions for plotting\n",
    "testPredictPlot = numpy.empty_like(df1)\n",
    "testPredictPlot[:, :] = numpy.nan\n",
    "testPredictPlot[len(train_predict)+(look_back*2)+1:len(df1)-1, :] = test_predict\n",
    "# plot baseline and predictions\n",
    "plt.plot(scaler.inverse_transform(df1))\n",
    "plt.plot(trainPredictPlot)\n",
    "plt.plot(testPredictPlot)\n",
    "plt.show()"
   ]
  },
  {
   "cell_type": "code",
   "execution_count": 62,
   "metadata": {},
   "outputs": [
    {
     "data": {
      "text/plain": [
       "798"
      ]
     },
     "execution_count": 62,
     "metadata": {},
     "output_type": "execute_result"
    }
   ],
   "source": [
    "prev_100_day_data = len(test_data) - 100\n",
    "prev_100_day_data"
   ]
  },
  {
   "cell_type": "code",
   "execution_count": 63,
   "metadata": {},
   "outputs": [
    {
     "data": {
      "text/plain": [
       "(1, 100)"
      ]
     },
     "execution_count": 63,
     "metadata": {},
     "output_type": "execute_result"
    }
   ],
   "source": [
    "x_input=test_data[prev_100_day_data:].reshape(1,-1)\n",
    "x_input.shape\n"
   ]
  },
  {
   "cell_type": "code",
   "execution_count": 64,
   "metadata": {},
   "outputs": [],
   "source": [
    "temp_input=list(x_input)\n",
    "temp_input=temp_input[0].tolist()"
   ]
  },
  {
   "cell_type": "code",
   "execution_count": 65,
   "metadata": {},
   "outputs": [
    {
     "data": {
      "text/plain": [
       "[0.028406279749820008,\n",
       " 0.027645366790755754,\n",
       " 0.027829623740484328,\n",
       " 0.028085536170662884,\n",
       " 0.028433577075705718,\n",
       " 0.027635130293548613,\n",
       " 0.02765219112222719,\n",
       " 0.028491583893212862,\n",
       " 0.028952226267534267,\n",
       " 0.029907632673534214,\n",
       " 0.031613715541391266,\n",
       " 0.030436518362569904,\n",
       " 0.030422869699627052,\n",
       " 0.02975067304969137,\n",
       " 0.029999761148398498,\n",
       " 0.03236097983751267,\n",
       " 0.03370878530311974,\n",
       " 0.03288304119507693,\n",
       " 0.0336030081653126,\n",
       " 0.034063650539634005,\n",
       " 0.033098007636426924,\n",
       " 0.03202658759541269,\n",
       " 0.030845978250855593,\n",
       " 0.03183891847994841,\n",
       " 0.032787500554476934,\n",
       " 0.032019763263941264,\n",
       " 0.02925932118374854,\n",
       " 0.028348272932312863,\n",
       " 0.029324152332727105,\n",
       " 0.029730200055277083,\n",
       " 0.02979844336999136,\n",
       " 0.029685841900712804,\n",
       " 0.03053547116890561,\n",
       " 0.030549119831848475,\n",
       " 0.03159665471271271,\n",
       " 0.030989289211755592,\n",
       " 0.031733141342141266,\n",
       " 0.031941283452019825,\n",
       " 0.03515895574079825,\n",
       " 0.03863254045975521,\n",
       " 0.037581593413155256,\n",
       " 0.03681385612261959,\n",
       " 0.039127304491433756,\n",
       " 0.038772439254919494,\n",
       " 0.03639415973712676,\n",
       " 0.03624061227901962,\n",
       " 0.03735297830886242,\n",
       " 0.038386864526783804,\n",
       " 0.03892598671302662,\n",
       " 0.03876561492344806,\n",
       " 0.03772149220831954,\n",
       " 0.03726084983399813,\n",
       " 0.036493112543462464,\n",
       " 0.03655794369244103,\n",
       " 0.03741098512636956,\n",
       " 0.03905906117671948,\n",
       " 0.03863254045975521,\n",
       " 0.03818213458264094,\n",
       " 0.037424633789312406,\n",
       " 0.03712436320456958,\n",
       " 0.03670125465334102,\n",
       " 0.0387246689346195,\n",
       " 0.03784774234054096,\n",
       " 0.0389191623815552,\n",
       " 0.039628892854583736,\n",
       " 0.03976537948401229,\n",
       " 0.039611832025905166,\n",
       " 0.04040345447659084,\n",
       " 0.03762936373345527,\n",
       " 0.038755378426240925,\n",
       " 0.038792912249333775,\n",
       " 0.04065254257529796,\n",
       " 0.041665955798805054,\n",
       " 0.04065595474103367,\n",
       " 0.04238592276904074,\n",
       " 0.037468991943876706,\n",
       " 0.03747240410961242,\n",
       " 0.03536709785067679,\n",
       " 0.03572878741866249,\n",
       " 0.0353432126905268,\n",
       " 0.03478361750986969,\n",
       " 0.03561959811511965,\n",
       " 0.03527496937581252,\n",
       " 0.034909867642091114,\n",
       " 0.03536368568494108,\n",
       " 0.0351964895638911,\n",
       " 0.033469933701619756,\n",
       " 0.0333368592379269,\n",
       " 0.03203341192688411,\n",
       " 0.031122363675448437,\n",
       " 0.02959030126011281,\n",
       " 0.030276146572991342,\n",
       " 0.029061415571077113,\n",
       " 0.030409221036684194,\n",
       " 0.031221316481784157,\n",
       " 0.030955167554398453,\n",
       " 0.03148064107769842,\n",
       " 0.028771381483541417,\n",
       " 0.028146955153905733,\n",
       " 0.029177429206091395]"
      ]
     },
     "execution_count": 65,
     "metadata": {},
     "output_type": "execute_result"
    }
   ],
   "source": [
    "temp_input"
   ]
  },
  {
   "cell_type": "code",
   "execution_count": 66,
   "metadata": {},
   "outputs": [
    {
     "name": "stdout",
     "output_type": "stream",
     "text": [
      "[0.19108403]\n",
      "101\n",
      "1 day input [0.02764537 0.02782962 0.02808554 0.02843358 0.02763513 0.02765219\n",
      " 0.02849158 0.02895223 0.02990763 0.03161372 0.03043652 0.03042287\n",
      " 0.02975067 0.02999976 0.03236098 0.03370879 0.03288304 0.03360301\n",
      " 0.03406365 0.03309801 0.03202659 0.03084598 0.03183892 0.0327875\n",
      " 0.03201976 0.02925932 0.02834827 0.02932415 0.0297302  0.02979844\n",
      " 0.02968584 0.03053547 0.03054912 0.03159665 0.03098929 0.03173314\n",
      " 0.03194128 0.03515896 0.03863254 0.03758159 0.03681386 0.0391273\n",
      " 0.03877244 0.03639416 0.03624061 0.03735298 0.03838686 0.03892599\n",
      " 0.03876561 0.03772149 0.03726085 0.03649311 0.03655794 0.03741099\n",
      " 0.03905906 0.03863254 0.03818213 0.03742463 0.03712436 0.03670125\n",
      " 0.03872467 0.03784774 0.03891916 0.03962889 0.03976538 0.03961183\n",
      " 0.04040345 0.03762936 0.03875538 0.03879291 0.04065254 0.04166596\n",
      " 0.04065595 0.04238592 0.03746899 0.0374724  0.0353671  0.03572879\n",
      " 0.03534321 0.03478362 0.0356196  0.03527497 0.03490987 0.03536369\n",
      " 0.03519649 0.03346993 0.03333686 0.03203341 0.03112236 0.0295903\n",
      " 0.03027615 0.02906142 0.03040922 0.03122132 0.03095517 0.03148064\n",
      " 0.02877138 0.02814696 0.02917743 0.19108403]\n",
      "1 day output [[0.19113043]]\n",
      "2 day input [0.02782962 0.02808554 0.02843358 0.02763513 0.02765219 0.02849158\n",
      " 0.02895223 0.02990763 0.03161372 0.03043652 0.03042287 0.02975067\n",
      " 0.02999976 0.03236098 0.03370879 0.03288304 0.03360301 0.03406365\n",
      " 0.03309801 0.03202659 0.03084598 0.03183892 0.0327875  0.03201976\n",
      " 0.02925932 0.02834827 0.02932415 0.0297302  0.02979844 0.02968584\n",
      " 0.03053547 0.03054912 0.03159665 0.03098929 0.03173314 0.03194128\n",
      " 0.03515896 0.03863254 0.03758159 0.03681386 0.0391273  0.03877244\n",
      " 0.03639416 0.03624061 0.03735298 0.03838686 0.03892599 0.03876561\n",
      " 0.03772149 0.03726085 0.03649311 0.03655794 0.03741099 0.03905906\n",
      " 0.03863254 0.03818213 0.03742463 0.03712436 0.03670125 0.03872467\n",
      " 0.03784774 0.03891916 0.03962889 0.03976538 0.03961183 0.04040345\n",
      " 0.03762936 0.03875538 0.03879291 0.04065254 0.04166596 0.04065595\n",
      " 0.04238592 0.03746899 0.0374724  0.0353671  0.03572879 0.03534321\n",
      " 0.03478362 0.0356196  0.03527497 0.03490987 0.03536369 0.03519649\n",
      " 0.03346993 0.03333686 0.03203341 0.03112236 0.0295903  0.03027615\n",
      " 0.02906142 0.03040922 0.03122132 0.03095517 0.03148064 0.02877138\n",
      " 0.02814696 0.02917743 0.19108403 0.19113043]\n",
      "2 day output [[0.19127919]]\n",
      "3 day input [0.02808554 0.02843358 0.02763513 0.02765219 0.02849158 0.02895223\n",
      " 0.02990763 0.03161372 0.03043652 0.03042287 0.02975067 0.02999976\n",
      " 0.03236098 0.03370879 0.03288304 0.03360301 0.03406365 0.03309801\n",
      " 0.03202659 0.03084598 0.03183892 0.0327875  0.03201976 0.02925932\n",
      " 0.02834827 0.02932415 0.0297302  0.02979844 0.02968584 0.03053547\n",
      " 0.03054912 0.03159665 0.03098929 0.03173314 0.03194128 0.03515896\n",
      " 0.03863254 0.03758159 0.03681386 0.0391273  0.03877244 0.03639416\n",
      " 0.03624061 0.03735298 0.03838686 0.03892599 0.03876561 0.03772149\n",
      " 0.03726085 0.03649311 0.03655794 0.03741099 0.03905906 0.03863254\n",
      " 0.03818213 0.03742463 0.03712436 0.03670125 0.03872467 0.03784774\n",
      " 0.03891916 0.03962889 0.03976538 0.03961183 0.04040345 0.03762936\n",
      " 0.03875538 0.03879291 0.04065254 0.04166596 0.04065595 0.04238592\n",
      " 0.03746899 0.0374724  0.0353671  0.03572879 0.03534321 0.03478362\n",
      " 0.0356196  0.03527497 0.03490987 0.03536369 0.03519649 0.03346993\n",
      " 0.03333686 0.03203341 0.03112236 0.0295903  0.03027615 0.02906142\n",
      " 0.03040922 0.03122132 0.03095517 0.03148064 0.02877138 0.02814696\n",
      " 0.02917743 0.19108403 0.19113043 0.19127919]\n",
      "3 day output [[0.19157639]]\n",
      "4 day input [0.02843358 0.02763513 0.02765219 0.02849158 0.02895223 0.02990763\n",
      " 0.03161372 0.03043652 0.03042287 0.02975067 0.02999976 0.03236098\n",
      " 0.03370879 0.03288304 0.03360301 0.03406365 0.03309801 0.03202659\n",
      " 0.03084598 0.03183892 0.0327875  0.03201976 0.02925932 0.02834827\n",
      " 0.02932415 0.0297302  0.02979844 0.02968584 0.03053547 0.03054912\n",
      " 0.03159665 0.03098929 0.03173314 0.03194128 0.03515896 0.03863254\n",
      " 0.03758159 0.03681386 0.0391273  0.03877244 0.03639416 0.03624061\n",
      " 0.03735298 0.03838686 0.03892599 0.03876561 0.03772149 0.03726085\n",
      " 0.03649311 0.03655794 0.03741099 0.03905906 0.03863254 0.03818213\n",
      " 0.03742463 0.03712436 0.03670125 0.03872467 0.03784774 0.03891916\n",
      " 0.03962889 0.03976538 0.03961183 0.04040345 0.03762936 0.03875538\n",
      " 0.03879291 0.04065254 0.04166596 0.04065595 0.04238592 0.03746899\n",
      " 0.0374724  0.0353671  0.03572879 0.03534321 0.03478362 0.0356196\n",
      " 0.03527497 0.03490987 0.03536369 0.03519649 0.03346993 0.03333686\n",
      " 0.03203341 0.03112236 0.0295903  0.03027615 0.02906142 0.03040922\n",
      " 0.03122132 0.03095517 0.03148064 0.02877138 0.02814696 0.02917743\n",
      " 0.19108403 0.19113043 0.19127919 0.19157639]\n",
      "4 day output [[0.19205132]]\n",
      "5 day input [0.02763513 0.02765219 0.02849158 0.02895223 0.02990763 0.03161372\n",
      " 0.03043652 0.03042287 0.02975067 0.02999976 0.03236098 0.03370879\n",
      " 0.03288304 0.03360301 0.03406365 0.03309801 0.03202659 0.03084598\n",
      " 0.03183892 0.0327875  0.03201976 0.02925932 0.02834827 0.02932415\n",
      " 0.0297302  0.02979844 0.02968584 0.03053547 0.03054912 0.03159665\n",
      " 0.03098929 0.03173314 0.03194128 0.03515896 0.03863254 0.03758159\n",
      " 0.03681386 0.0391273  0.03877244 0.03639416 0.03624061 0.03735298\n",
      " 0.03838686 0.03892599 0.03876561 0.03772149 0.03726085 0.03649311\n",
      " 0.03655794 0.03741099 0.03905906 0.03863254 0.03818213 0.03742463\n",
      " 0.03712436 0.03670125 0.03872467 0.03784774 0.03891916 0.03962889\n",
      " 0.03976538 0.03961183 0.04040345 0.03762936 0.03875538 0.03879291\n",
      " 0.04065254 0.04166596 0.04065595 0.04238592 0.03746899 0.0374724\n",
      " 0.0353671  0.03572879 0.03534321 0.03478362 0.0356196  0.03527497\n",
      " 0.03490987 0.03536369 0.03519649 0.03346993 0.03333686 0.03203341\n",
      " 0.03112236 0.0295903  0.03027615 0.02906142 0.03040922 0.03122132\n",
      " 0.03095517 0.03148064 0.02877138 0.02814696 0.02917743 0.19108403\n",
      " 0.19113043 0.19127919 0.19157639 0.19205132]\n",
      "5 day output [[0.19271587]]\n",
      "6 day input [0.02765219 0.02849158 0.02895223 0.02990763 0.03161372 0.03043652\n",
      " 0.03042287 0.02975067 0.02999976 0.03236098 0.03370879 0.03288304\n",
      " 0.03360301 0.03406365 0.03309801 0.03202659 0.03084598 0.03183892\n",
      " 0.0327875  0.03201976 0.02925932 0.02834827 0.02932415 0.0297302\n",
      " 0.02979844 0.02968584 0.03053547 0.03054912 0.03159665 0.03098929\n",
      " 0.03173314 0.03194128 0.03515896 0.03863254 0.03758159 0.03681386\n",
      " 0.0391273  0.03877244 0.03639416 0.03624061 0.03735298 0.03838686\n",
      " 0.03892599 0.03876561 0.03772149 0.03726085 0.03649311 0.03655794\n",
      " 0.03741099 0.03905906 0.03863254 0.03818213 0.03742463 0.03712436\n",
      " 0.03670125 0.03872467 0.03784774 0.03891916 0.03962889 0.03976538\n",
      " 0.03961183 0.04040345 0.03762936 0.03875538 0.03879291 0.04065254\n",
      " 0.04166596 0.04065595 0.04238592 0.03746899 0.0374724  0.0353671\n",
      " 0.03572879 0.03534321 0.03478362 0.0356196  0.03527497 0.03490987\n",
      " 0.03536369 0.03519649 0.03346993 0.03333686 0.03203341 0.03112236\n",
      " 0.0295903  0.03027615 0.02906142 0.03040922 0.03122132 0.03095517\n",
      " 0.03148064 0.02877138 0.02814696 0.02917743 0.19108403 0.19113043\n",
      " 0.19127919 0.19157639 0.19205132 0.19271587]\n",
      "6 day output [[0.19356722]]\n",
      "7 day input [0.02849158 0.02895223 0.02990763 0.03161372 0.03043652 0.03042287\n",
      " 0.02975067 0.02999976 0.03236098 0.03370879 0.03288304 0.03360301\n",
      " 0.03406365 0.03309801 0.03202659 0.03084598 0.03183892 0.0327875\n",
      " 0.03201976 0.02925932 0.02834827 0.02932415 0.0297302  0.02979844\n",
      " 0.02968584 0.03053547 0.03054912 0.03159665 0.03098929 0.03173314\n",
      " 0.03194128 0.03515896 0.03863254 0.03758159 0.03681386 0.0391273\n",
      " 0.03877244 0.03639416 0.03624061 0.03735298 0.03838686 0.03892599\n",
      " 0.03876561 0.03772149 0.03726085 0.03649311 0.03655794 0.03741099\n",
      " 0.03905906 0.03863254 0.03818213 0.03742463 0.03712436 0.03670125\n",
      " 0.03872467 0.03784774 0.03891916 0.03962889 0.03976538 0.03961183\n",
      " 0.04040345 0.03762936 0.03875538 0.03879291 0.04065254 0.04166596\n",
      " 0.04065595 0.04238592 0.03746899 0.0374724  0.0353671  0.03572879\n",
      " 0.03534321 0.03478362 0.0356196  0.03527497 0.03490987 0.03536369\n",
      " 0.03519649 0.03346993 0.03333686 0.03203341 0.03112236 0.0295903\n",
      " 0.03027615 0.02906142 0.03040922 0.03122132 0.03095517 0.03148064\n",
      " 0.02877138 0.02814696 0.02917743 0.19108403 0.19113043 0.19127919\n",
      " 0.19157639 0.19205132 0.19271587 0.19356722]\n",
      "7 day output [[0.19459143]]\n",
      "8 day input [0.02895223 0.02990763 0.03161372 0.03043652 0.03042287 0.02975067\n",
      " 0.02999976 0.03236098 0.03370879 0.03288304 0.03360301 0.03406365\n",
      " 0.03309801 0.03202659 0.03084598 0.03183892 0.0327875  0.03201976\n",
      " 0.02925932 0.02834827 0.02932415 0.0297302  0.02979844 0.02968584\n",
      " 0.03053547 0.03054912 0.03159665 0.03098929 0.03173314 0.03194128\n",
      " 0.03515896 0.03863254 0.03758159 0.03681386 0.0391273  0.03877244\n",
      " 0.03639416 0.03624061 0.03735298 0.03838686 0.03892599 0.03876561\n",
      " 0.03772149 0.03726085 0.03649311 0.03655794 0.03741099 0.03905906\n",
      " 0.03863254 0.03818213 0.03742463 0.03712436 0.03670125 0.03872467\n",
      " 0.03784774 0.03891916 0.03962889 0.03976538 0.03961183 0.04040345\n",
      " 0.03762936 0.03875538 0.03879291 0.04065254 0.04166596 0.04065595\n",
      " 0.04238592 0.03746899 0.0374724  0.0353671  0.03572879 0.03534321\n",
      " 0.03478362 0.0356196  0.03527497 0.03490987 0.03536369 0.03519649\n",
      " 0.03346993 0.03333686 0.03203341 0.03112236 0.0295903  0.03027615\n",
      " 0.02906142 0.03040922 0.03122132 0.03095517 0.03148064 0.02877138\n",
      " 0.02814696 0.02917743 0.19108403 0.19113043 0.19127919 0.19157639\n",
      " 0.19205132 0.19271587 0.19356722 0.19459143]\n",
      "8 day output [[0.19576776]]\n",
      "9 day input [0.02990763 0.03161372 0.03043652 0.03042287 0.02975067 0.02999976\n",
      " 0.03236098 0.03370879 0.03288304 0.03360301 0.03406365 0.03309801\n",
      " 0.03202659 0.03084598 0.03183892 0.0327875  0.03201976 0.02925932\n",
      " 0.02834827 0.02932415 0.0297302  0.02979844 0.02968584 0.03053547\n",
      " 0.03054912 0.03159665 0.03098929 0.03173314 0.03194128 0.03515896\n",
      " 0.03863254 0.03758159 0.03681386 0.0391273  0.03877244 0.03639416\n",
      " 0.03624061 0.03735298 0.03838686 0.03892599 0.03876561 0.03772149\n",
      " 0.03726085 0.03649311 0.03655794 0.03741099 0.03905906 0.03863254\n",
      " 0.03818213 0.03742463 0.03712436 0.03670125 0.03872467 0.03784774\n",
      " 0.03891916 0.03962889 0.03976538 0.03961183 0.04040345 0.03762936\n",
      " 0.03875538 0.03879291 0.04065254 0.04166596 0.04065595 0.04238592\n",
      " 0.03746899 0.0374724  0.0353671  0.03572879 0.03534321 0.03478362\n",
      " 0.0356196  0.03527497 0.03490987 0.03536369 0.03519649 0.03346993\n",
      " 0.03333686 0.03203341 0.03112236 0.0295903  0.03027615 0.02906142\n",
      " 0.03040922 0.03122132 0.03095517 0.03148064 0.02877138 0.02814696\n",
      " 0.02917743 0.19108403 0.19113043 0.19127919 0.19157639 0.19205132\n",
      " 0.19271587 0.19356722 0.19459143 0.19576776]\n",
      "9 day output [[0.19707187]]\n",
      "10 day input [0.03161372 0.03043652 0.03042287 0.02975067 0.02999976 0.03236098\n",
      " 0.03370879 0.03288304 0.03360301 0.03406365 0.03309801 0.03202659\n",
      " 0.03084598 0.03183892 0.0327875  0.03201976 0.02925932 0.02834827\n",
      " 0.02932415 0.0297302  0.02979844 0.02968584 0.03053547 0.03054912\n",
      " 0.03159665 0.03098929 0.03173314 0.03194128 0.03515896 0.03863254\n",
      " 0.03758159 0.03681386 0.0391273  0.03877244 0.03639416 0.03624061\n",
      " 0.03735298 0.03838686 0.03892599 0.03876561 0.03772149 0.03726085\n",
      " 0.03649311 0.03655794 0.03741099 0.03905906 0.03863254 0.03818213\n",
      " 0.03742463 0.03712436 0.03670125 0.03872467 0.03784774 0.03891916\n",
      " 0.03962889 0.03976538 0.03961183 0.04040345 0.03762936 0.03875538\n",
      " 0.03879291 0.04065254 0.04166596 0.04065595 0.04238592 0.03746899\n",
      " 0.0374724  0.0353671  0.03572879 0.03534321 0.03478362 0.0356196\n",
      " 0.03527497 0.03490987 0.03536369 0.03519649 0.03346993 0.03333686\n",
      " 0.03203341 0.03112236 0.0295903  0.03027615 0.02906142 0.03040922\n",
      " 0.03122132 0.03095517 0.03148064 0.02877138 0.02814696 0.02917743\n",
      " 0.19108403 0.19113043 0.19127919 0.19157639 0.19205132 0.19271587\n",
      " 0.19356722 0.19459143 0.19576776 0.19707187]\n",
      "10 day output [[0.19847834]]\n",
      "11 day input [0.03043652 0.03042287 0.02975067 0.02999976 0.03236098 0.03370879\n",
      " 0.03288304 0.03360301 0.03406365 0.03309801 0.03202659 0.03084598\n",
      " 0.03183892 0.0327875  0.03201976 0.02925932 0.02834827 0.02932415\n",
      " 0.0297302  0.02979844 0.02968584 0.03053547 0.03054912 0.03159665\n",
      " 0.03098929 0.03173314 0.03194128 0.03515896 0.03863254 0.03758159\n",
      " 0.03681386 0.0391273  0.03877244 0.03639416 0.03624061 0.03735298\n",
      " 0.03838686 0.03892599 0.03876561 0.03772149 0.03726085 0.03649311\n",
      " 0.03655794 0.03741099 0.03905906 0.03863254 0.03818213 0.03742463\n",
      " 0.03712436 0.03670125 0.03872467 0.03784774 0.03891916 0.03962889\n",
      " 0.03976538 0.03961183 0.04040345 0.03762936 0.03875538 0.03879291\n",
      " 0.04065254 0.04166596 0.04065595 0.04238592 0.03746899 0.0374724\n",
      " 0.0353671  0.03572879 0.03534321 0.03478362 0.0356196  0.03527497\n",
      " 0.03490987 0.03536369 0.03519649 0.03346993 0.03333686 0.03203341\n",
      " 0.03112236 0.0295903  0.03027615 0.02906142 0.03040922 0.03122132\n",
      " 0.03095517 0.03148064 0.02877138 0.02814696 0.02917743 0.19108403\n",
      " 0.19113043 0.19127919 0.19157639 0.19205132 0.19271587 0.19356722\n",
      " 0.19459143 0.19576776 0.19707187 0.19847834]\n",
      "11 day output [[0.19996274]]\n",
      "12 day input [0.03042287 0.02975067 0.02999976 0.03236098 0.03370879 0.03288304\n",
      " 0.03360301 0.03406365 0.03309801 0.03202659 0.03084598 0.03183892\n",
      " 0.0327875  0.03201976 0.02925932 0.02834827 0.02932415 0.0297302\n",
      " 0.02979844 0.02968584 0.03053547 0.03054912 0.03159665 0.03098929\n",
      " 0.03173314 0.03194128 0.03515896 0.03863254 0.03758159 0.03681386\n",
      " 0.0391273  0.03877244 0.03639416 0.03624061 0.03735298 0.03838686\n",
      " 0.03892599 0.03876561 0.03772149 0.03726085 0.03649311 0.03655794\n",
      " 0.03741099 0.03905906 0.03863254 0.03818213 0.03742463 0.03712436\n",
      " 0.03670125 0.03872467 0.03784774 0.03891916 0.03962889 0.03976538\n",
      " 0.03961183 0.04040345 0.03762936 0.03875538 0.03879291 0.04065254\n",
      " 0.04166596 0.04065595 0.04238592 0.03746899 0.0374724  0.0353671\n",
      " 0.03572879 0.03534321 0.03478362 0.0356196  0.03527497 0.03490987\n",
      " 0.03536369 0.03519649 0.03346993 0.03333686 0.03203341 0.03112236\n",
      " 0.0295903  0.03027615 0.02906142 0.03040922 0.03122132 0.03095517\n",
      " 0.03148064 0.02877138 0.02814696 0.02917743 0.19108403 0.19113043\n",
      " 0.19127919 0.19157639 0.19205132 0.19271587 0.19356722 0.19459143\n",
      " 0.19576776 0.19707187 0.19847834 0.19996274]\n",
      "12 day output [[0.2015033]]\n",
      "13 day input [0.02975067 0.02999976 0.03236098 0.03370879 0.03288304 0.03360301\n",
      " 0.03406365 0.03309801 0.03202659 0.03084598 0.03183892 0.0327875\n",
      " 0.03201976 0.02925932 0.02834827 0.02932415 0.0297302  0.02979844\n",
      " 0.02968584 0.03053547 0.03054912 0.03159665 0.03098929 0.03173314\n",
      " 0.03194128 0.03515896 0.03863254 0.03758159 0.03681386 0.0391273\n",
      " 0.03877244 0.03639416 0.03624061 0.03735298 0.03838686 0.03892599\n",
      " 0.03876561 0.03772149 0.03726085 0.03649311 0.03655794 0.03741099\n",
      " 0.03905906 0.03863254 0.03818213 0.03742463 0.03712436 0.03670125\n",
      " 0.03872467 0.03784774 0.03891916 0.03962889 0.03976538 0.03961183\n",
      " 0.04040345 0.03762936 0.03875538 0.03879291 0.04065254 0.04166596\n",
      " 0.04065595 0.04238592 0.03746899 0.0374724  0.0353671  0.03572879\n",
      " 0.03534321 0.03478362 0.0356196  0.03527497 0.03490987 0.03536369\n",
      " 0.03519649 0.03346993 0.03333686 0.03203341 0.03112236 0.0295903\n",
      " 0.03027615 0.02906142 0.03040922 0.03122132 0.03095517 0.03148064\n",
      " 0.02877138 0.02814696 0.02917743 0.19108403 0.19113043 0.19127919\n",
      " 0.19157639 0.19205132 0.19271587 0.19356722 0.19459143 0.19576776\n",
      " 0.19707187 0.19847834 0.19996274 0.20150331]\n",
      "13 day output [[0.20308204]]\n",
      "14 day input [0.02999976 0.03236098 0.03370879 0.03288304 0.03360301 0.03406365\n",
      " 0.03309801 0.03202659 0.03084598 0.03183892 0.0327875  0.03201976\n",
      " 0.02925932 0.02834827 0.02932415 0.0297302  0.02979844 0.02968584\n",
      " 0.03053547 0.03054912 0.03159665 0.03098929 0.03173314 0.03194128\n",
      " 0.03515896 0.03863254 0.03758159 0.03681386 0.0391273  0.03877244\n",
      " 0.03639416 0.03624061 0.03735298 0.03838686 0.03892599 0.03876561\n",
      " 0.03772149 0.03726085 0.03649311 0.03655794 0.03741099 0.03905906\n",
      " 0.03863254 0.03818213 0.03742463 0.03712436 0.03670125 0.03872467\n",
      " 0.03784774 0.03891916 0.03962889 0.03976538 0.03961183 0.04040345\n",
      " 0.03762936 0.03875538 0.03879291 0.04065254 0.04166596 0.04065595\n",
      " 0.04238592 0.03746899 0.0374724  0.0353671  0.03572879 0.03534321\n",
      " 0.03478362 0.0356196  0.03527497 0.03490987 0.03536369 0.03519649\n",
      " 0.03346993 0.03333686 0.03203341 0.03112236 0.0295903  0.03027615\n",
      " 0.02906142 0.03040922 0.03122132 0.03095517 0.03148064 0.02877138\n",
      " 0.02814696 0.02917743 0.19108403 0.19113043 0.19127919 0.19157639\n",
      " 0.19205132 0.19271587 0.19356722 0.19459143 0.19576776 0.19707187\n",
      " 0.19847834 0.19996274 0.20150331 0.20308204]\n",
      "14 day output [[0.20468435]]\n",
      "15 day input [0.03236098 0.03370879 0.03288304 0.03360301 0.03406365 0.03309801\n",
      " 0.03202659 0.03084598 0.03183892 0.0327875  0.03201976 0.02925932\n",
      " 0.02834827 0.02932415 0.0297302  0.02979844 0.02968584 0.03053547\n",
      " 0.03054912 0.03159665 0.03098929 0.03173314 0.03194128 0.03515896\n",
      " 0.03863254 0.03758159 0.03681386 0.0391273  0.03877244 0.03639416\n",
      " 0.03624061 0.03735298 0.03838686 0.03892599 0.03876561 0.03772149\n",
      " 0.03726085 0.03649311 0.03655794 0.03741099 0.03905906 0.03863254\n",
      " 0.03818213 0.03742463 0.03712436 0.03670125 0.03872467 0.03784774\n",
      " 0.03891916 0.03962889 0.03976538 0.03961183 0.04040345 0.03762936\n",
      " 0.03875538 0.03879291 0.04065254 0.04166596 0.04065595 0.04238592\n",
      " 0.03746899 0.0374724  0.0353671  0.03572879 0.03534321 0.03478362\n",
      " 0.0356196  0.03527497 0.03490987 0.03536369 0.03519649 0.03346993\n",
      " 0.03333686 0.03203341 0.03112236 0.0295903  0.03027615 0.02906142\n",
      " 0.03040922 0.03122132 0.03095517 0.03148064 0.02877138 0.02814696\n",
      " 0.02917743 0.19108403 0.19113043 0.19127919 0.19157639 0.19205132\n",
      " 0.19271587 0.19356722 0.19459143 0.19576776 0.19707187 0.19847834\n",
      " 0.19996274 0.20150331 0.20308204 0.20468435]\n",
      "15 day output [[0.20629871]]\n",
      "16 day input [0.03370879 0.03288304 0.03360301 0.03406365 0.03309801 0.03202659\n",
      " 0.03084598 0.03183892 0.0327875  0.03201976 0.02925932 0.02834827\n",
      " 0.02932415 0.0297302  0.02979844 0.02968584 0.03053547 0.03054912\n",
      " 0.03159665 0.03098929 0.03173314 0.03194128 0.03515896 0.03863254\n",
      " 0.03758159 0.03681386 0.0391273  0.03877244 0.03639416 0.03624061\n",
      " 0.03735298 0.03838686 0.03892599 0.03876561 0.03772149 0.03726085\n",
      " 0.03649311 0.03655794 0.03741099 0.03905906 0.03863254 0.03818213\n",
      " 0.03742463 0.03712436 0.03670125 0.03872467 0.03784774 0.03891916\n",
      " 0.03962889 0.03976538 0.03961183 0.04040345 0.03762936 0.03875538\n",
      " 0.03879291 0.04065254 0.04166596 0.04065595 0.04238592 0.03746899\n",
      " 0.0374724  0.0353671  0.03572879 0.03534321 0.03478362 0.0356196\n",
      " 0.03527497 0.03490987 0.03536369 0.03519649 0.03346993 0.03333686\n",
      " 0.03203341 0.03112236 0.0295903  0.03027615 0.02906142 0.03040922\n",
      " 0.03122132 0.03095517 0.03148064 0.02877138 0.02814696 0.02917743\n",
      " 0.19108403 0.19113043 0.19127919 0.19157639 0.19205132 0.19271587\n",
      " 0.19356722 0.19459143 0.19576776 0.19707187 0.19847834 0.19996274\n",
      " 0.20150331 0.20308204 0.20468435 0.20629871]\n",
      "16 day output [[0.2079168]]\n",
      "17 day input [0.03288304 0.03360301 0.03406365 0.03309801 0.03202659 0.03084598\n",
      " 0.03183892 0.0327875  0.03201976 0.02925932 0.02834827 0.02932415\n",
      " 0.0297302  0.02979844 0.02968584 0.03053547 0.03054912 0.03159665\n",
      " 0.03098929 0.03173314 0.03194128 0.03515896 0.03863254 0.03758159\n",
      " 0.03681386 0.0391273  0.03877244 0.03639416 0.03624061 0.03735298\n",
      " 0.03838686 0.03892599 0.03876561 0.03772149 0.03726085 0.03649311\n",
      " 0.03655794 0.03741099 0.03905906 0.03863254 0.03818213 0.03742463\n",
      " 0.03712436 0.03670125 0.03872467 0.03784774 0.03891916 0.03962889\n",
      " 0.03976538 0.03961183 0.04040345 0.03762936 0.03875538 0.03879291\n",
      " 0.04065254 0.04166596 0.04065595 0.04238592 0.03746899 0.0374724\n",
      " 0.0353671  0.03572879 0.03534321 0.03478362 0.0356196  0.03527497\n",
      " 0.03490987 0.03536369 0.03519649 0.03346993 0.03333686 0.03203341\n",
      " 0.03112236 0.0295903  0.03027615 0.02906142 0.03040922 0.03122132\n",
      " 0.03095517 0.03148064 0.02877138 0.02814696 0.02917743 0.19108403\n",
      " 0.19113043 0.19127919 0.19157639 0.19205132 0.19271587 0.19356722\n",
      " 0.19459143 0.19576776 0.19707187 0.19847834 0.19996274 0.20150331\n",
      " 0.20308204 0.20468435 0.20629871 0.2079168 ]\n",
      "17 day output [[0.20953284]]\n",
      "18 day input [0.03360301 0.03406365 0.03309801 0.03202659 0.03084598 0.03183892\n",
      " 0.0327875  0.03201976 0.02925932 0.02834827 0.02932415 0.0297302\n",
      " 0.02979844 0.02968584 0.03053547 0.03054912 0.03159665 0.03098929\n",
      " 0.03173314 0.03194128 0.03515896 0.03863254 0.03758159 0.03681386\n",
      " 0.0391273  0.03877244 0.03639416 0.03624061 0.03735298 0.03838686\n",
      " 0.03892599 0.03876561 0.03772149 0.03726085 0.03649311 0.03655794\n",
      " 0.03741099 0.03905906 0.03863254 0.03818213 0.03742463 0.03712436\n",
      " 0.03670125 0.03872467 0.03784774 0.03891916 0.03962889 0.03976538\n",
      " 0.03961183 0.04040345 0.03762936 0.03875538 0.03879291 0.04065254\n",
      " 0.04166596 0.04065595 0.04238592 0.03746899 0.0374724  0.0353671\n",
      " 0.03572879 0.03534321 0.03478362 0.0356196  0.03527497 0.03490987\n",
      " 0.03536369 0.03519649 0.03346993 0.03333686 0.03203341 0.03112236\n",
      " 0.0295903  0.03027615 0.02906142 0.03040922 0.03122132 0.03095517\n",
      " 0.03148064 0.02877138 0.02814696 0.02917743 0.19108403 0.19113043\n",
      " 0.19127919 0.19157639 0.19205132 0.19271587 0.19356722 0.19459143\n",
      " 0.19576776 0.19707187 0.19847834 0.19996274 0.20150331 0.20308204\n",
      " 0.20468435 0.20629871 0.2079168  0.20953284]\n",
      "18 day output [[0.21114254]]\n",
      "19 day input [0.03406365 0.03309801 0.03202659 0.03084598 0.03183892 0.0327875\n",
      " 0.03201976 0.02925932 0.02834827 0.02932415 0.0297302  0.02979844\n",
      " 0.02968584 0.03053547 0.03054912 0.03159665 0.03098929 0.03173314\n",
      " 0.03194128 0.03515896 0.03863254 0.03758159 0.03681386 0.0391273\n",
      " 0.03877244 0.03639416 0.03624061 0.03735298 0.03838686 0.03892599\n",
      " 0.03876561 0.03772149 0.03726085 0.03649311 0.03655794 0.03741099\n",
      " 0.03905906 0.03863254 0.03818213 0.03742463 0.03712436 0.03670125\n",
      " 0.03872467 0.03784774 0.03891916 0.03962889 0.03976538 0.03961183\n",
      " 0.04040345 0.03762936 0.03875538 0.03879291 0.04065254 0.04166596\n",
      " 0.04065595 0.04238592 0.03746899 0.0374724  0.0353671  0.03572879\n",
      " 0.03534321 0.03478362 0.0356196  0.03527497 0.03490987 0.03536369\n",
      " 0.03519649 0.03346993 0.03333686 0.03203341 0.03112236 0.0295903\n",
      " 0.03027615 0.02906142 0.03040922 0.03122132 0.03095517 0.03148064\n",
      " 0.02877138 0.02814696 0.02917743 0.19108403 0.19113043 0.19127919\n",
      " 0.19157639 0.19205132 0.19271587 0.19356722 0.19459143 0.19576776\n",
      " 0.19707187 0.19847834 0.19996274 0.20150331 0.20308204 0.20468435\n",
      " 0.20629871 0.2079168  0.20953284 0.21114254]\n",
      "19 day output [[0.21274354]]\n",
      "20 day input [0.03309801 0.03202659 0.03084598 0.03183892 0.0327875  0.03201976\n",
      " 0.02925932 0.02834827 0.02932415 0.0297302  0.02979844 0.02968584\n",
      " 0.03053547 0.03054912 0.03159665 0.03098929 0.03173314 0.03194128\n",
      " 0.03515896 0.03863254 0.03758159 0.03681386 0.0391273  0.03877244\n",
      " 0.03639416 0.03624061 0.03735298 0.03838686 0.03892599 0.03876561\n",
      " 0.03772149 0.03726085 0.03649311 0.03655794 0.03741099 0.03905906\n",
      " 0.03863254 0.03818213 0.03742463 0.03712436 0.03670125 0.03872467\n",
      " 0.03784774 0.03891916 0.03962889 0.03976538 0.03961183 0.04040345\n",
      " 0.03762936 0.03875538 0.03879291 0.04065254 0.04166596 0.04065595\n",
      " 0.04238592 0.03746899 0.0374724  0.0353671  0.03572879 0.03534321\n",
      " 0.03478362 0.0356196  0.03527497 0.03490987 0.03536369 0.03519649\n",
      " 0.03346993 0.03333686 0.03203341 0.03112236 0.0295903  0.03027615\n",
      " 0.02906142 0.03040922 0.03122132 0.03095517 0.03148064 0.02877138\n",
      " 0.02814696 0.02917743 0.19108403 0.19113043 0.19127919 0.19157639\n",
      " 0.19205132 0.19271587 0.19356722 0.19459143 0.19576776 0.19707187\n",
      " 0.19847834 0.19996274 0.20150331 0.20308204 0.20468435 0.20629871\n",
      " 0.2079168  0.20953284 0.21114254 0.21274354]\n",
      "20 day output [[0.21433315]]\n",
      "21 day input [0.03202659 0.03084598 0.03183892 0.0327875  0.03201976 0.02925932\n",
      " 0.02834827 0.02932415 0.0297302  0.02979844 0.02968584 0.03053547\n",
      " 0.03054912 0.03159665 0.03098929 0.03173314 0.03194128 0.03515896\n",
      " 0.03863254 0.03758159 0.03681386 0.0391273  0.03877244 0.03639416\n",
      " 0.03624061 0.03735298 0.03838686 0.03892599 0.03876561 0.03772149\n",
      " 0.03726085 0.03649311 0.03655794 0.03741099 0.03905906 0.03863254\n",
      " 0.03818213 0.03742463 0.03712436 0.03670125 0.03872467 0.03784774\n",
      " 0.03891916 0.03962889 0.03976538 0.03961183 0.04040345 0.03762936\n",
      " 0.03875538 0.03879291 0.04065254 0.04166596 0.04065595 0.04238592\n",
      " 0.03746899 0.0374724  0.0353671  0.03572879 0.03534321 0.03478362\n",
      " 0.0356196  0.03527497 0.03490987 0.03536369 0.03519649 0.03346993\n",
      " 0.03333686 0.03203341 0.03112236 0.0295903  0.03027615 0.02906142\n",
      " 0.03040922 0.03122132 0.03095517 0.03148064 0.02877138 0.02814696\n",
      " 0.02917743 0.19108403 0.19113043 0.19127919 0.19157639 0.19205132\n",
      " 0.19271587 0.19356722 0.19459143 0.19576776 0.19707187 0.19847834\n",
      " 0.19996274 0.20150331 0.20308204 0.20468435 0.20629871 0.2079168\n",
      " 0.20953284 0.21114254 0.21274354 0.21433315]\n",
      "21 day output [[0.21590418]]\n",
      "22 day input [0.03084598 0.03183892 0.0327875  0.03201976 0.02925932 0.02834827\n",
      " 0.02932415 0.0297302  0.02979844 0.02968584 0.03053547 0.03054912\n",
      " 0.03159665 0.03098929 0.03173314 0.03194128 0.03515896 0.03863254\n",
      " 0.03758159 0.03681386 0.0391273  0.03877244 0.03639416 0.03624061\n",
      " 0.03735298 0.03838686 0.03892599 0.03876561 0.03772149 0.03726085\n",
      " 0.03649311 0.03655794 0.03741099 0.03905906 0.03863254 0.03818213\n",
      " 0.03742463 0.03712436 0.03670125 0.03872467 0.03784774 0.03891916\n",
      " 0.03962889 0.03976538 0.03961183 0.04040345 0.03762936 0.03875538\n",
      " 0.03879291 0.04065254 0.04166596 0.04065595 0.04238592 0.03746899\n",
      " 0.0374724  0.0353671  0.03572879 0.03534321 0.03478362 0.0356196\n",
      " 0.03527497 0.03490987 0.03536369 0.03519649 0.03346993 0.03333686\n",
      " 0.03203341 0.03112236 0.0295903  0.03027615 0.02906142 0.03040922\n",
      " 0.03122132 0.03095517 0.03148064 0.02877138 0.02814696 0.02917743\n",
      " 0.19108403 0.19113043 0.19127919 0.19157639 0.19205132 0.19271587\n",
      " 0.19356722 0.19459143 0.19576776 0.19707187 0.19847834 0.19996274\n",
      " 0.20150331 0.20308204 0.20468435 0.20629871 0.2079168  0.20953284\n",
      " 0.21114254 0.21274354 0.21433315 0.21590418]\n",
      "22 day output [[0.21743412]]\n",
      "23 day input [0.03183892 0.0327875  0.03201976 0.02925932 0.02834827 0.02932415\n",
      " 0.0297302  0.02979844 0.02968584 0.03053547 0.03054912 0.03159665\n",
      " 0.03098929 0.03173314 0.03194128 0.03515896 0.03863254 0.03758159\n",
      " 0.03681386 0.0391273  0.03877244 0.03639416 0.03624061 0.03735298\n",
      " 0.03838686 0.03892599 0.03876561 0.03772149 0.03726085 0.03649311\n",
      " 0.03655794 0.03741099 0.03905906 0.03863254 0.03818213 0.03742463\n",
      " 0.03712436 0.03670125 0.03872467 0.03784774 0.03891916 0.03962889\n",
      " 0.03976538 0.03961183 0.04040345 0.03762936 0.03875538 0.03879291\n",
      " 0.04065254 0.04166596 0.04065595 0.04238592 0.03746899 0.0374724\n",
      " 0.0353671  0.03572879 0.03534321 0.03478362 0.0356196  0.03527497\n",
      " 0.03490987 0.03536369 0.03519649 0.03346993 0.03333686 0.03203341\n",
      " 0.03112236 0.0295903  0.03027615 0.02906142 0.03040922 0.03122132\n",
      " 0.03095517 0.03148064 0.02877138 0.02814696 0.02917743 0.19108403\n",
      " 0.19113043 0.19127919 0.19157639 0.19205132 0.19271587 0.19356722\n",
      " 0.19459143 0.19576776 0.19707187 0.19847834 0.19996274 0.20150331\n",
      " 0.20308204 0.20468435 0.20629871 0.2079168  0.20953284 0.21114254\n",
      " 0.21274354 0.21433315 0.21590418 0.21743412]\n",
      "23 day output [[0.21891674]]\n",
      "24 day input [0.0327875  0.03201976 0.02925932 0.02834827 0.02932415 0.0297302\n",
      " 0.02979844 0.02968584 0.03053547 0.03054912 0.03159665 0.03098929\n",
      " 0.03173314 0.03194128 0.03515896 0.03863254 0.03758159 0.03681386\n",
      " 0.0391273  0.03877244 0.03639416 0.03624061 0.03735298 0.03838686\n",
      " 0.03892599 0.03876561 0.03772149 0.03726085 0.03649311 0.03655794\n",
      " 0.03741099 0.03905906 0.03863254 0.03818213 0.03742463 0.03712436\n",
      " 0.03670125 0.03872467 0.03784774 0.03891916 0.03962889 0.03976538\n",
      " 0.03961183 0.04040345 0.03762936 0.03875538 0.03879291 0.04065254\n",
      " 0.04166596 0.04065595 0.04238592 0.03746899 0.0374724  0.0353671\n",
      " 0.03572879 0.03534321 0.03478362 0.0356196  0.03527497 0.03490987\n",
      " 0.03536369 0.03519649 0.03346993 0.03333686 0.03203341 0.03112236\n",
      " 0.0295903  0.03027615 0.02906142 0.03040922 0.03122132 0.03095517\n",
      " 0.03148064 0.02877138 0.02814696 0.02917743 0.19108403 0.19113043\n",
      " 0.19127919 0.19157639 0.19205132 0.19271587 0.19356722 0.19459143\n",
      " 0.19576776 0.19707187 0.19847834 0.19996274 0.20150331 0.20308204\n",
      " 0.20468435 0.20629871 0.2079168  0.20953284 0.21114254 0.21274354\n",
      " 0.21433315 0.21590418 0.21743412 0.21891674]\n",
      "24 day output [[0.22034949]]\n",
      "25 day input [0.03201976 0.02925932 0.02834827 0.02932415 0.0297302  0.02979844\n",
      " 0.02968584 0.03053547 0.03054912 0.03159665 0.03098929 0.03173314\n",
      " 0.03194128 0.03515896 0.03863254 0.03758159 0.03681386 0.0391273\n",
      " 0.03877244 0.03639416 0.03624061 0.03735298 0.03838686 0.03892599\n",
      " 0.03876561 0.03772149 0.03726085 0.03649311 0.03655794 0.03741099\n",
      " 0.03905906 0.03863254 0.03818213 0.03742463 0.03712436 0.03670125\n",
      " 0.03872467 0.03784774 0.03891916 0.03962889 0.03976538 0.03961183\n",
      " 0.04040345 0.03762936 0.03875538 0.03879291 0.04065254 0.04166596\n",
      " 0.04065595 0.04238592 0.03746899 0.0374724  0.0353671  0.03572879\n",
      " 0.03534321 0.03478362 0.0356196  0.03527497 0.03490987 0.03536369\n",
      " 0.03519649 0.03346993 0.03333686 0.03203341 0.03112236 0.0295903\n",
      " 0.03027615 0.02906142 0.03040922 0.03122132 0.03095517 0.03148064\n",
      " 0.02877138 0.02814696 0.02917743 0.19108403 0.19113043 0.19127919\n",
      " 0.19157639 0.19205132 0.19271587 0.19356722 0.19459143 0.19576776\n",
      " 0.19707187 0.19847834 0.19996274 0.20150331 0.20308204 0.20468435\n",
      " 0.20629871 0.2079168  0.20953284 0.21114254 0.21274354 0.21433315\n",
      " 0.21590418 0.21743412 0.21891674 0.22034949]\n",
      "25 day output [[0.22173055]]\n",
      "26 day input [0.02925932 0.02834827 0.02932415 0.0297302  0.02979844 0.02968584\n",
      " 0.03053547 0.03054912 0.03159665 0.03098929 0.03173314 0.03194128\n",
      " 0.03515896 0.03863254 0.03758159 0.03681386 0.0391273  0.03877244\n",
      " 0.03639416 0.03624061 0.03735298 0.03838686 0.03892599 0.03876561\n",
      " 0.03772149 0.03726085 0.03649311 0.03655794 0.03741099 0.03905906\n",
      " 0.03863254 0.03818213 0.03742463 0.03712436 0.03670125 0.03872467\n",
      " 0.03784774 0.03891916 0.03962889 0.03976538 0.03961183 0.04040345\n",
      " 0.03762936 0.03875538 0.03879291 0.04065254 0.04166596 0.04065595\n",
      " 0.04238592 0.03746899 0.0374724  0.0353671  0.03572879 0.03534321\n",
      " 0.03478362 0.0356196  0.03527497 0.03490987 0.03536369 0.03519649\n",
      " 0.03346993 0.03333686 0.03203341 0.03112236 0.0295903  0.03027615\n",
      " 0.02906142 0.03040922 0.03122132 0.03095517 0.03148064 0.02877138\n",
      " 0.02814696 0.02917743 0.19108403 0.19113043 0.19127919 0.19157639\n",
      " 0.19205132 0.19271587 0.19356722 0.19459143 0.19576776 0.19707187\n",
      " 0.19847834 0.19996274 0.20150331 0.20308204 0.20468435 0.20629871\n",
      " 0.2079168  0.20953284 0.21114254 0.21274354 0.21433315 0.21590418\n",
      " 0.21743412 0.21891674 0.22034949 0.22173055]\n",
      "26 day output [[0.2230588]]\n",
      "27 day input [0.02834827 0.02932415 0.0297302  0.02979844 0.02968584 0.03053547\n",
      " 0.03054912 0.03159665 0.03098929 0.03173314 0.03194128 0.03515896\n",
      " 0.03863254 0.03758159 0.03681386 0.0391273  0.03877244 0.03639416\n",
      " 0.03624061 0.03735298 0.03838686 0.03892599 0.03876561 0.03772149\n",
      " 0.03726085 0.03649311 0.03655794 0.03741099 0.03905906 0.03863254\n",
      " 0.03818213 0.03742463 0.03712436 0.03670125 0.03872467 0.03784774\n",
      " 0.03891916 0.03962889 0.03976538 0.03961183 0.04040345 0.03762936\n",
      " 0.03875538 0.03879291 0.04065254 0.04166596 0.04065595 0.04238592\n",
      " 0.03746899 0.0374724  0.0353671  0.03572879 0.03534321 0.03478362\n",
      " 0.0356196  0.03527497 0.03490987 0.03536369 0.03519649 0.03346993\n",
      " 0.03333686 0.03203341 0.03112236 0.0295903  0.03027615 0.02906142\n",
      " 0.03040922 0.03122132 0.03095517 0.03148064 0.02877138 0.02814696\n",
      " 0.02917743 0.19108403 0.19113043 0.19127919 0.19157639 0.19205132\n",
      " 0.19271587 0.19356722 0.19459143 0.19576776 0.19707187 0.19847834\n",
      " 0.19996274 0.20150331 0.20308204 0.20468435 0.20629871 0.2079168\n",
      " 0.20953284 0.21114254 0.21274354 0.21433315 0.21590418 0.21743412\n",
      " 0.21891674 0.22034949 0.22173055 0.2230588 ]\n",
      "27 day output [[0.22433418]]\n",
      "28 day input [0.02932415 0.0297302  0.02979844 0.02968584 0.03053547 0.03054912\n",
      " 0.03159665 0.03098929 0.03173314 0.03194128 0.03515896 0.03863254\n",
      " 0.03758159 0.03681386 0.0391273  0.03877244 0.03639416 0.03624061\n",
      " 0.03735298 0.03838686 0.03892599 0.03876561 0.03772149 0.03726085\n",
      " 0.03649311 0.03655794 0.03741099 0.03905906 0.03863254 0.03818213\n",
      " 0.03742463 0.03712436 0.03670125 0.03872467 0.03784774 0.03891916\n",
      " 0.03962889 0.03976538 0.03961183 0.04040345 0.03762936 0.03875538\n",
      " 0.03879291 0.04065254 0.04166596 0.04065595 0.04238592 0.03746899\n",
      " 0.0374724  0.0353671  0.03572879 0.03534321 0.03478362 0.0356196\n",
      " 0.03527497 0.03490987 0.03536369 0.03519649 0.03346993 0.03333686\n",
      " 0.03203341 0.03112236 0.0295903  0.03027615 0.02906142 0.03040922\n",
      " 0.03122132 0.03095517 0.03148064 0.02877138 0.02814696 0.02917743\n",
      " 0.19108403 0.19113043 0.19127919 0.19157639 0.19205132 0.19271587\n",
      " 0.19356722 0.19459143 0.19576776 0.19707187 0.19847834 0.19996274\n",
      " 0.20150331 0.20308204 0.20468435 0.20629871 0.2079168  0.20953284\n",
      " 0.21114254 0.21274354 0.21433315 0.21590418 0.21743412 0.21891674\n",
      " 0.22034949 0.22173055 0.2230588  0.22433418]\n",
      "28 day output [[0.22555712]]\n",
      "29 day input [0.0297302  0.02979844 0.02968584 0.03053547 0.03054912 0.03159665\n",
      " 0.03098929 0.03173314 0.03194128 0.03515896 0.03863254 0.03758159\n",
      " 0.03681386 0.0391273  0.03877244 0.03639416 0.03624061 0.03735298\n",
      " 0.03838686 0.03892599 0.03876561 0.03772149 0.03726085 0.03649311\n",
      " 0.03655794 0.03741099 0.03905906 0.03863254 0.03818213 0.03742463\n",
      " 0.03712436 0.03670125 0.03872467 0.03784774 0.03891916 0.03962889\n",
      " 0.03976538 0.03961183 0.04040345 0.03762936 0.03875538 0.03879291\n",
      " 0.04065254 0.04166596 0.04065595 0.04238592 0.03746899 0.0374724\n",
      " 0.0353671  0.03572879 0.03534321 0.03478362 0.0356196  0.03527497\n",
      " 0.03490987 0.03536369 0.03519649 0.03346993 0.03333686 0.03203341\n",
      " 0.03112236 0.0295903  0.03027615 0.02906142 0.03040922 0.03122132\n",
      " 0.03095517 0.03148064 0.02877138 0.02814696 0.02917743 0.19108403\n",
      " 0.19113043 0.19127919 0.19157639 0.19205132 0.19271587 0.19356722\n",
      " 0.19459143 0.19576776 0.19707187 0.19847834 0.19996274 0.20150331\n",
      " 0.20308204 0.20468435 0.20629871 0.2079168  0.20953284 0.21114254\n",
      " 0.21274354 0.21433315 0.21590418 0.21743412 0.21891674 0.22034949\n",
      " 0.22173055 0.2230588  0.22433418 0.22555712]\n",
      "29 day output [[0.22672817]]\n",
      "[[0.19108402729034424], [0.19113042950630188], [0.19127918779850006], [0.19157639145851135], [0.19205132126808167], [0.1927158683538437], [0.1935672163963318], [0.1945914328098297], [0.19576776027679443], [0.1970718652009964], [0.1984783411026001], [0.19996273517608643], [0.20150330662727356], [0.20308203995227814], [0.20468434691429138], [0.20629870891571045], [0.20791679620742798], [0.20953284204006195], [0.21114253997802734], [0.21274353563785553], [0.21433314681053162], [0.21590417623519897], [0.2174341231584549], [0.21891674399375916], [0.2203494906425476], [0.2217305451631546], [0.2230588048696518], [0.22433418035507202], [0.2255571186542511], [0.2267281711101532]]\n"
     ]
    }
   ],
   "source": [
    "# demonstrate prediction for next 10 days\n",
    "from numpy import array\n",
    "\n",
    "lst_output=[]\n",
    "n_steps=100\n",
    "i=0\n",
    "while(i<30):\n",
    "    \n",
    "    if(len(temp_input)>100):\n",
    "        #print(temp_input)\n",
    "        x_input=np.array(temp_input[1:])\n",
    "        print(\"{} day input {}\".format(i,x_input))\n",
    "        x_input=x_input.reshape(1,-1)\n",
    "        x_input = x_input.reshape((1, n_steps, 1))\n",
    "        #print(x_input)\n",
    "        yhat = model.predict(x_input, verbose=0)\n",
    "        print(\"{} day output {}\".format(i,yhat))\n",
    "        temp_input.extend(yhat[0].tolist())\n",
    "        temp_input=temp_input[1:]\n",
    "        #print(temp_input)\n",
    "        lst_output.extend(yhat.tolist())\n",
    "        i=i+1\n",
    "    else:\n",
    "        x_input = x_input.reshape((1, n_steps,1))\n",
    "        yhat = model.predict(x_input, verbose=0)\n",
    "        print(yhat[0])\n",
    "        temp_input.extend(yhat[0].tolist())\n",
    "        print(len(temp_input))\n",
    "        lst_output.extend(yhat.tolist())\n",
    "        i=i+1\n",
    "    \n",
    "\n",
    "print(lst_output)"
   ]
  },
  {
   "cell_type": "code",
   "execution_count": 67,
   "metadata": {},
   "outputs": [],
   "source": [
    "day_new=np.arange(1,101)\n",
    "day_pred=np.arange(101,131)"
   ]
  },
  {
   "cell_type": "code",
   "execution_count": 68,
   "metadata": {},
   "outputs": [],
   "source": [
    "import matplotlib.pyplot as plt"
   ]
  },
  {
   "cell_type": "code",
   "execution_count": 69,
   "metadata": {},
   "outputs": [
    {
     "data": {
      "text/plain": [
       "2563"
      ]
     },
     "execution_count": 69,
     "metadata": {},
     "output_type": "execute_result"
    }
   ],
   "source": [
    "len(df1)"
   ]
  },
  {
   "cell_type": "code",
   "execution_count": 70,
   "metadata": {},
   "outputs": [
    {
     "data": {
      "text/plain": [
       "[<matplotlib.lines.Line2D at 0x1ee42b4ec00>]"
      ]
     },
     "execution_count": 70,
     "metadata": {},
     "output_type": "execute_result"
    },
    {
     "data": {
      "image/png": "[encoded data removed]",
      "text/plain": [
       "<Figure size 640x480 with 1 Axes>"
      ]
     },
     "metadata": {},
     "output_type": "display_data"
    }
   ],
   "source": [
    "plt.plot(day_new,scaler.inverse_transform(df1[2463:]))\n",
    "plt.plot(day_pred,scaler.inverse_transform(lst_output))"
   ]
  },
  {
   "cell_type": "code",
   "execution_count": 71,
   "metadata": {},
   "outputs": [
    {
     "data": {
      "text/plain": [
       "[<matplotlib.lines.Line2D at 0x1ee42c14e30>]"
      ]
     },
     "execution_count": 71,
     "metadata": {},
     "output_type": "execute_result"
    },
    {
     "data": {
      "image/png": "[encoded data removed]",
      "text/plain": [
       "<Figure size 1200x600 with 1 Axes>"
      ]
     },
     "metadata": {},
     "output_type": "display_data"
    }
   ],
   "source": [
    "df3=df1.tolist()\n",
    "df3.extend(lst_output)\n",
    "plt.figure(figsize=(12, 6))\n",
    "plt.grid(True)\n",
    "plt.plot(df3[:])"
   ]
  },
  {
   "cell_type": "code",
   "execution_count": 72,
   "metadata": {},
   "outputs": [],
   "source": [
    "df3=scaler.inverse_transform(df3).tolist()"
   ]
  },
  {
   "cell_type": "code",
   "execution_count": 73,
   "metadata": {},
   "outputs": [
    {
     "data": {
      "text/plain": [
       "[<matplotlib.lines.Line2D at 0x1ee42bce960>]"
      ]
     },
     "execution_count": 73,
     "metadata": {},
     "output_type": "execute_result"
    },
    {
     "data": {
      "image/png": "[encoded data removed]",
      "text/plain": [
       "<Figure size 640x480 with 1 Axes>"
      ]
     },
     "metadata": {},
     "output_type": "display_data"
    }
   ],
   "source": [
    "plt.plot(df3)"
   ]
  },
  {
   "cell_type": "code",
   "execution_count": 74,
   "metadata": {},
   "outputs": [],
   "source": [
    "model.save('Stock Predictions Model.keras')"
   ]
  },
  {
   "cell_type": "code",
   "execution_count": null,
   "metadata": {},
   "outputs": [],
   "source": []
  }
 ],
 "metadata": {
  "kernelspec": {
   "display_name": "Python 3",
   "language": "python",
   "name": "python3"
  },
  "language_info": {
   "codemirror_mode": {
    "name": "ipython",
    "version": 3
   },
   "file_extension": ".py",
   "mimetype": "text/x-python",
   "name": "python",
   "nbconvert_exporter": "python",
   "pygments_lexer": "ipython3",
   "version": "3.12.6"
  }
 },
 "nbformat": 4,
 "nbformat_minor": 2
}
